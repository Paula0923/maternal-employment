{
 "cells": [
  {
   "cell_type": "markdown",
   "id": "f4d6f170",
   "metadata": {},
   "source": [
    "<div style=\"\n",
    "    padding: 15px;\n",
    "    margin: 10px 0;\n",
    "    border: 1px solid #f7be0d;\n",
    "    border-radius: 4px;\n",
    "    background-color: #e3db24;\n",
    "    color: #060606;\n",
    "    font-size: 16px;\n",
    "    line-height: 1.5;\n",
    "    word-wrap: break-word;\n",
    "    text-align: left;\">\n",
    "    <strong>Inferential Statistics</strong>\n",
    "<p>This notebook builds on the notebook \"EDA-maternal-employment\" which can be found in the same repo. In \"EDA-maternal-employment\" hypotheses regarding influence factors on the maternal employment were put forward and tested with EDA methods. They will be put down here and further tested with inferential methods ONLY if a relationship was indicated in the previous work.</p>\n",
    "</div>"
   ]
  },
  {
   "cell_type": "markdown",
   "id": "0dde4fc3",
   "metadata": {},
   "source": [
    "<h1 style=\"color: #e3db24;\">00 | Libraries and Settings</h1>"
   ]
  },
  {
   "cell_type": "code",
   "execution_count": 22,
   "id": "85e114a5-e25d-41df-a862-9065ecd00ead",
   "metadata": {},
   "outputs": [],
   "source": [
    "# 📚 Basic libraries\n",
    "import pandas as pd\n",
    "import glob\n",
    "import numpy as np\n",
    "import matplotlib.pyplot as plt\n",
    "import seaborn as sns\n",
    "import scipy.stats as stats\n",
    "\n",
    "# 🛞 Machine Learning\n",
    "import xgboost as xgb\n",
    "import statsmodels.api as sm\n",
    "import statsmodels.stats.diagnostic as smd\n",
    "import sklearn\n",
    "from sklearn.model_selection import train_test_split\n",
    "from sklearn.linear_model import LinearRegression\n",
    "from sklearn.metrics import r2_score, mean_squared_error, mean_absolute_error"
   ]
  },
  {
   "cell_type": "code",
   "execution_count": 4,
   "id": "e6cbd84d-ff14-4af3-9a92-e0218d348fbf",
   "metadata": {},
   "outputs": [],
   "source": [
    "# ⚙️ Settings\n",
    "pd.set_option('display.max_columns', None) # display all columns\n",
    "pd.set_option('display.float_format', '{:,.2f}'.format)\n",
    "import warnings\n",
    "warnings.filterwarnings('ignore') # ignore warnings"
   ]
  },
  {
   "cell_type": "markdown",
   "id": "0114e245-9195-45ae-867a-7f3e0f08fe35",
   "metadata": {
    "tags": []
   },
   "source": [
    "<h1 style=\"color: #e3db24;\">01 | Data Extraction</h1>"
   ]
  },
  {
   "cell_type": "code",
   "execution_count": 6,
   "id": "4efafced-3148-473f-ba9c-f51d2485372e",
   "metadata": {},
   "outputs": [],
   "source": [
    "eda_df = pd.read_excel('data/eda_df.xlsx')\n",
    "eu_df = pd.read_excel('data/eu_df.xlsx')"
   ]
  },
  {
   "cell_type": "code",
   "execution_count": 7,
   "id": "cae2cea1",
   "metadata": {},
   "outputs": [
    {
     "data": {
      "text/html": [
       "<div>\n",
       "<style scoped>\n",
       "    .dataframe tbody tr th:only-of-type {\n",
       "        vertical-align: middle;\n",
       "    }\n",
       "\n",
       "    .dataframe tbody tr th {\n",
       "        vertical-align: top;\n",
       "    }\n",
       "\n",
       "    .dataframe thead th {\n",
       "        text-align: right;\n",
       "    }\n",
       "</style>\n",
       "<table border=\"1\" class=\"dataframe\">\n",
       "  <thead>\n",
       "    <tr style=\"text-align: right;\">\n",
       "      <th></th>\n",
       "      <th>country</th>\n",
       "      <th>gdp</th>\n",
       "      <th>fertility</th>\n",
       "      <th>unemployment</th>\n",
       "      <th>spending_family_benefits</th>\n",
       "      <th>pay_gap</th>\n",
       "      <th>age_first_child</th>\n",
       "      <th>women_15-49</th>\n",
       "      <th>emp_women</th>\n",
       "      <th>emp_men</th>\n",
       "      <th>emp_women_pt</th>\n",
       "      <th>emp_men_pt</th>\n",
       "      <th>manager_women</th>\n",
       "      <th>edu_women_score</th>\n",
       "      <th>edu_women_cat</th>\n",
       "      <th>emp_mothers_partnered</th>\n",
       "      <th>emp_mothers_single</th>\n",
       "      <th>fathers_full_paid_leave</th>\n",
       "      <th>mothers_full_paid_leave</th>\n",
       "      <th>emp_pt_maternal</th>\n",
       "      <th>emp_ft_maternal</th>\n",
       "      <th>emp_maternal</th>\n",
       "    </tr>\n",
       "  </thead>\n",
       "  <tbody>\n",
       "    <tr>\n",
       "      <th>0</th>\n",
       "      <td>Austria</td>\n",
       "      <td>38560</td>\n",
       "      <td>1.48</td>\n",
       "      <td>5.30</td>\n",
       "      <td>2.70</td>\n",
       "      <td>12.14</td>\n",
       "      <td>29.70</td>\n",
       "      <td>37.20</td>\n",
       "      <td>70.30</td>\n",
       "      <td>77.90</td>\n",
       "      <td>50.10</td>\n",
       "      <td>12.20</td>\n",
       "      <td>35.50</td>\n",
       "      <td>2.10</td>\n",
       "      <td>High</td>\n",
       "      <td>75.83</td>\n",
       "      <td>73.27</td>\n",
       "      <td>9.39</td>\n",
       "      <td>51.20</td>\n",
       "      <td>40.38</td>\n",
       "      <td>35.18</td>\n",
       "      <td>75.56</td>\n",
       "    </tr>\n",
       "    <tr>\n",
       "      <th>1</th>\n",
       "      <td>Belgium</td>\n",
       "      <td>37170</td>\n",
       "      <td>1.60</td>\n",
       "      <td>5.30</td>\n",
       "      <td>2.06</td>\n",
       "      <td>1.11</td>\n",
       "      <td>29.20</td>\n",
       "      <td>37.20</td>\n",
       "      <td>63.30</td>\n",
       "      <td>69.90</td>\n",
       "      <td>38.10</td>\n",
       "      <td>10.70</td>\n",
       "      <td>35.40</td>\n",
       "      <td>2.21</td>\n",
       "      <td>High</td>\n",
       "      <td>77.99</td>\n",
       "      <td>64.04</td>\n",
       "      <td>6.65</td>\n",
       "      <td>15.05</td>\n",
       "      <td>19.72</td>\n",
       "      <td>55.63</td>\n",
       "      <td>75.53</td>\n",
       "    </tr>\n",
       "    <tr>\n",
       "      <th>2</th>\n",
       "      <td>Bulgaria</td>\n",
       "      <td>7730</td>\n",
       "      <td>1.58</td>\n",
       "      <td>4.40</td>\n",
       "      <td>1.59</td>\n",
       "      <td>8.81</td>\n",
       "      <td>26.40</td>\n",
       "      <td>33.30</td>\n",
       "      <td>67.40</td>\n",
       "      <td>73.90</td>\n",
       "      <td>1.50</td>\n",
       "      <td>1.30</td>\n",
       "      <td>38.30</td>\n",
       "      <td>2.11</td>\n",
       "      <td>High</td>\n",
       "      <td>71.95</td>\n",
       "      <td>67.10</td>\n",
       "      <td>1.93</td>\n",
       "      <td>73.14</td>\n",
       "      <td>0.61</td>\n",
       "      <td>68.52</td>\n",
       "      <td>71.13</td>\n",
       "    </tr>\n",
       "    <tr>\n",
       "      <th>3</th>\n",
       "      <td>Croatia</td>\n",
       "      <td>14630</td>\n",
       "      <td>1.58</td>\n",
       "      <td>6.00</td>\n",
       "      <td>1.85</td>\n",
       "      <td>3.21</td>\n",
       "      <td>29.00</td>\n",
       "      <td>35.20</td>\n",
       "      <td>62.10</td>\n",
       "      <td>69.40</td>\n",
       "      <td>4.50</td>\n",
       "      <td>3.00</td>\n",
       "      <td>28.90</td>\n",
       "      <td>2.07</td>\n",
       "      <td>Medium</td>\n",
       "      <td>77.43</td>\n",
       "      <td>81.50</td>\n",
       "      <td>7.87</td>\n",
       "      <td>47.62</td>\n",
       "      <td>3.87</td>\n",
       "      <td>73.13</td>\n",
       "      <td>77.79</td>\n",
       "    </tr>\n",
       "    <tr>\n",
       "      <th>4</th>\n",
       "      <td>Cyprus</td>\n",
       "      <td>28790</td>\n",
       "      <td>1.39</td>\n",
       "      <td>5.70</td>\n",
       "      <td>0.93</td>\n",
       "      <td>20.84</td>\n",
       "      <td>30.00</td>\n",
       "      <td>43.50</td>\n",
       "      <td>71.40</td>\n",
       "      <td>79.30</td>\n",
       "      <td>10.90</td>\n",
       "      <td>5.80</td>\n",
       "      <td>21.00</td>\n",
       "      <td>2.28</td>\n",
       "      <td>High</td>\n",
       "      <td>74.37</td>\n",
       "      <td>64.38</td>\n",
       "      <td>1.44</td>\n",
       "      <td>15.84</td>\n",
       "      <td>7.63</td>\n",
       "      <td>65.54</td>\n",
       "      <td>73.18</td>\n",
       "    </tr>\n",
       "  </tbody>\n",
       "</table>\n",
       "</div>"
      ],
      "text/plain": [
       "    country    gdp  fertility  unemployment  spending_family_benefits  \\\n",
       "0   Austria  38560       1.48          5.30                      2.70   \n",
       "1   Belgium  37170       1.60          5.30                      2.06   \n",
       "2  Bulgaria   7730       1.58          4.40                      1.59   \n",
       "3   Croatia  14630       1.58          6.00                      1.85   \n",
       "4    Cyprus  28790       1.39          5.70                      0.93   \n",
       "\n",
       "   pay_gap  age_first_child  women_15-49  emp_women  emp_men  emp_women_pt  \\\n",
       "0    12.14            29.70        37.20      70.30    77.90         50.10   \n",
       "1     1.11            29.20        37.20      63.30    69.90         38.10   \n",
       "2     8.81            26.40        33.30      67.40    73.90          1.50   \n",
       "3     3.21            29.00        35.20      62.10    69.40          4.50   \n",
       "4    20.84            30.00        43.50      71.40    79.30         10.90   \n",
       "\n",
       "   emp_men_pt  manager_women  edu_women_score edu_women_cat  \\\n",
       "0       12.20          35.50             2.10          High   \n",
       "1       10.70          35.40             2.21          High   \n",
       "2        1.30          38.30             2.11          High   \n",
       "3        3.00          28.90             2.07        Medium   \n",
       "4        5.80          21.00             2.28          High   \n",
       "\n",
       "   emp_mothers_partnered  emp_mothers_single  fathers_full_paid_leave  \\\n",
       "0                  75.83               73.27                     9.39   \n",
       "1                  77.99               64.04                     6.65   \n",
       "2                  71.95               67.10                     1.93   \n",
       "3                  77.43               81.50                     7.87   \n",
       "4                  74.37               64.38                     1.44   \n",
       "\n",
       "   mothers_full_paid_leave  emp_pt_maternal  emp_ft_maternal  emp_maternal  \n",
       "0                    51.20            40.38            35.18         75.56  \n",
       "1                    15.05            19.72            55.63         75.53  \n",
       "2                    73.14             0.61            68.52         71.13  \n",
       "3                    47.62             3.87            73.13         77.79  \n",
       "4                    15.84             7.63            65.54         73.18  "
      ]
     },
     "execution_count": 7,
     "metadata": {},
     "output_type": "execute_result"
    }
   ],
   "source": [
    "eu_df.head()"
   ]
  },
  {
   "cell_type": "code",
   "execution_count": 8,
   "id": "30183100",
   "metadata": {},
   "outputs": [
    {
     "data": {
      "text/html": [
       "<div>\n",
       "<style scoped>\n",
       "    .dataframe tbody tr th:only-of-type {\n",
       "        vertical-align: middle;\n",
       "    }\n",
       "\n",
       "    .dataframe tbody tr th {\n",
       "        vertical-align: top;\n",
       "    }\n",
       "\n",
       "    .dataframe thead th {\n",
       "        text-align: right;\n",
       "    }\n",
       "</style>\n",
       "<table border=\"1\" class=\"dataframe\">\n",
       "  <thead>\n",
       "    <tr style=\"text-align: right;\">\n",
       "      <th></th>\n",
       "      <th>country</th>\n",
       "      <th>emp_maternal</th>\n",
       "      <th>spending_family_benefits</th>\n",
       "      <th>fathers_full_paid_leave</th>\n",
       "      <th>emp_mothers_partnered</th>\n",
       "      <th>emp_mothers_single</th>\n",
       "      <th>edu_women_score</th>\n",
       "      <th>edu_women_cat</th>\n",
       "      <th>manager_women</th>\n",
       "      <th>emp_men_pt</th>\n",
       "      <th>pay_gap</th>\n",
       "      <th>spending_category</th>\n",
       "    </tr>\n",
       "  </thead>\n",
       "  <tbody>\n",
       "    <tr>\n",
       "      <th>0</th>\n",
       "      <td>Austria</td>\n",
       "      <td>75.56</td>\n",
       "      <td>2.70</td>\n",
       "      <td>9.39</td>\n",
       "      <td>75.83</td>\n",
       "      <td>73.27</td>\n",
       "      <td>2.10</td>\n",
       "      <td>High</td>\n",
       "      <td>35.50</td>\n",
       "      <td>12.20</td>\n",
       "      <td>12.14</td>\n",
       "      <td>High</td>\n",
       "    </tr>\n",
       "    <tr>\n",
       "      <th>1</th>\n",
       "      <td>Belgium</td>\n",
       "      <td>75.53</td>\n",
       "      <td>2.06</td>\n",
       "      <td>6.65</td>\n",
       "      <td>77.99</td>\n",
       "      <td>64.04</td>\n",
       "      <td>2.21</td>\n",
       "      <td>High</td>\n",
       "      <td>35.40</td>\n",
       "      <td>10.70</td>\n",
       "      <td>1.11</td>\n",
       "      <td>Medium-High</td>\n",
       "    </tr>\n",
       "    <tr>\n",
       "      <th>2</th>\n",
       "      <td>Bulgaria</td>\n",
       "      <td>71.13</td>\n",
       "      <td>1.59</td>\n",
       "      <td>1.93</td>\n",
       "      <td>71.95</td>\n",
       "      <td>67.10</td>\n",
       "      <td>2.11</td>\n",
       "      <td>High</td>\n",
       "      <td>38.30</td>\n",
       "      <td>1.30</td>\n",
       "      <td>8.81</td>\n",
       "      <td>Medium-Low</td>\n",
       "    </tr>\n",
       "    <tr>\n",
       "      <th>3</th>\n",
       "      <td>Croatia</td>\n",
       "      <td>77.79</td>\n",
       "      <td>1.85</td>\n",
       "      <td>7.87</td>\n",
       "      <td>77.43</td>\n",
       "      <td>81.50</td>\n",
       "      <td>2.07</td>\n",
       "      <td>Medium</td>\n",
       "      <td>28.90</td>\n",
       "      <td>3.00</td>\n",
       "      <td>3.21</td>\n",
       "      <td>Medium-Low</td>\n",
       "    </tr>\n",
       "    <tr>\n",
       "      <th>4</th>\n",
       "      <td>Cyprus</td>\n",
       "      <td>73.18</td>\n",
       "      <td>0.93</td>\n",
       "      <td>1.44</td>\n",
       "      <td>74.37</td>\n",
       "      <td>64.38</td>\n",
       "      <td>2.28</td>\n",
       "      <td>High</td>\n",
       "      <td>21.00</td>\n",
       "      <td>5.80</td>\n",
       "      <td>20.84</td>\n",
       "      <td>Low</td>\n",
       "    </tr>\n",
       "  </tbody>\n",
       "</table>\n",
       "</div>"
      ],
      "text/plain": [
       "    country  emp_maternal  spending_family_benefits  fathers_full_paid_leave  \\\n",
       "0   Austria         75.56                      2.70                     9.39   \n",
       "1   Belgium         75.53                      2.06                     6.65   \n",
       "2  Bulgaria         71.13                      1.59                     1.93   \n",
       "3   Croatia         77.79                      1.85                     7.87   \n",
       "4    Cyprus         73.18                      0.93                     1.44   \n",
       "\n",
       "   emp_mothers_partnered  emp_mothers_single  edu_women_score edu_women_cat  \\\n",
       "0                  75.83               73.27             2.10          High   \n",
       "1                  77.99               64.04             2.21          High   \n",
       "2                  71.95               67.10             2.11          High   \n",
       "3                  77.43               81.50             2.07        Medium   \n",
       "4                  74.37               64.38             2.28          High   \n",
       "\n",
       "   manager_women  emp_men_pt  pay_gap spending_category  \n",
       "0          35.50       12.20    12.14              High  \n",
       "1          35.40       10.70     1.11       Medium-High  \n",
       "2          38.30        1.30     8.81        Medium-Low  \n",
       "3          28.90        3.00     3.21        Medium-Low  \n",
       "4          21.00        5.80    20.84               Low  "
      ]
     },
     "execution_count": 8,
     "metadata": {},
     "output_type": "execute_result"
    }
   ],
   "source": [
    "eda_df.head()"
   ]
  },
  {
   "cell_type": "markdown",
   "id": "849fb065-2a0a-4344-85b6-379047e422e7",
   "metadata": {},
   "source": [
    "<h2 style=\"color: #ec7511;\">Copy as Best Practice</h2>"
   ]
  },
  {
   "cell_type": "code",
   "execution_count": 10,
   "id": "5c926087-9fe6-427e-8210-aa3796371edb",
   "metadata": {},
   "outputs": [],
   "source": [
    "inf_df = eda_df.copy()\n",
    "regression_all = eu_df.copy()"
   ]
  },
  {
   "cell_type": "markdown",
   "id": "f9f71a3f",
   "metadata": {},
   "source": [
    "## <span style=\"color: #ec7511;\">Moving the Target to the Right</span>"
   ]
  },
  {
   "cell_type": "code",
   "execution_count": null,
   "id": "77b3a881",
   "metadata": {},
   "outputs": [],
   "source": [
    "#eu_df = eu_df[[col for col in eu_df.columns if col != \"emp_women\"] + [\"emp_women\"]]\n",
    "#df_women = eu_df[[col for col in eu_df.columns if col != \"emp_women\"] + [\"emp_women\"]]\n",
    "#df_mothers = eu_df[[col for col in eu_df.columns if col != \"emp_mothers\"] + [\"emp_mothers\"]]"
   ]
  },
  {
   "cell_type": "code",
   "execution_count": null,
   "id": "69676834",
   "metadata": {},
   "outputs": [],
   "source": []
  },
  {
   "cell_type": "markdown",
   "id": "6453c5a7",
   "metadata": {},
   "source": [
    "<h1 style=\"color: #e3db24;\">02 | Hypothesis Testing</h1>"
   ]
  },
  {
   "cell_type": "markdown",
   "id": "1ba20b9d",
   "metadata": {},
   "source": [
    "<div style=\"\n",
    "    padding: 15px;\n",
    "    margin: 10px 0;\n",
    "    border: 1px solid #f7be0d;\n",
    "    border-radius: 4px;\n",
    "    background-color: #e3db24;\n",
    "    color: #060606;\n",
    "    font-size: 16px;\n",
    "    line-height: 1.5;\n",
    "    word-wrap: break-word;\n",
    "    text-align: left;\">\n",
    "    <strong>Overview Hypotheses:</strong>\n",
    "<p>These are the four hypotheses for which the EDA analysis before indicated confirmation and a relationship between the variables.</p>\n",
    "<ul>\n",
    "    <li><strong>H2:</strong> Mothers in partnerships have a higher employment rate than single mothers. This difference is smaller in countries with higher spending on family benefits.</li>\n",
    "    <li><strong>H3:</strong> Countries with longer fully paid parental leave for fathers have a higher maternal employment rate.</li>\n",
    "    <li><strong>H4:</strong> The higher the education level of women in a country, the higher the maternal employment rate.</li>\n",
    "    <li><strong>H6:</strong> In countries where more men work part-time, maternal employment rates are higher.</li>\n",
    "</ul>\n",
    "<p>In the following, I will analyse the detected relationship with inferential methods like t-tests, ANOVA and linear regression. Afterwards, I will build a comprehensive modell for a multiple regression which also includes control variables like GDP, unemployment and several more parameters.</p>\n",
    "</div>"
   ]
  },
  {
   "cell_type": "markdown",
   "id": "3f2999d8",
   "metadata": {},
   "source": [
    "## <span style=\"color: #ec7511;\">Hypothesis 2:</span>\n",
    "<p>Mothers in partnerships have a higher employment rate than single mothers. This difference is smaller in countries with higher spending on family benefits.</p>"
   ]
  },
  {
   "cell_type": "markdown",
   "id": "db6d7118",
   "metadata": {},
   "source": [
    "### <span style=\"color: #ec300e;\">Independent Two Sample T-Test Between Single and Partnered Mothers</span>"
   ]
  },
  {
   "cell_type": "code",
   "execution_count": 17,
   "id": "4b0a9df0",
   "metadata": {},
   "outputs": [
    {
     "name": "stdout",
     "output_type": "stream",
     "text": [
      "T-Statistik: -1.759\n",
      "p-Wert: 0.085\n",
      "\n",
      "\n",
      "❎ No significant difference between the means of the two group (p >= 0.05)\n"
     ]
    }
   ],
   "source": [
    "# two sample t-test for the means of two independent samples\n",
    "group1 = eda_df[\"emp_mothers_single\"]\n",
    "group2 = eda_df[\"emp_mothers_partnered\"]\n",
    "\n",
    "t_stat, p_value = stats.ttest_ind(group1, group2)\n",
    "\n",
    "print(f\"T-Statistik: {t_stat:.3f}\")\n",
    "print(f\"p-Wert: {p_value:.3f}\")\n",
    "print(\"\")\n",
    "\n",
    "if p_value < 0.05:\n",
    "    print(\"\\n🚨 Significant difference between the means of the two groups (p < 0.05)\")\n",
    "else:\n",
    "    print(\"\\n❎ No significant difference between the means of the two group (p >= 0.05)\")"
   ]
  },
  {
   "cell_type": "markdown",
   "id": "a57832bf",
   "metadata": {},
   "source": [
    "### <span style=\"color: #ec300e;\">One Way ANOVA on the Impact of Public Spending on the Employment Rate of Single/Partnered Mothers</span>"
   ]
  },
  {
   "cell_type": "code",
   "execution_count": 18,
   "id": "aa06ecca",
   "metadata": {},
   "outputs": [
    {
     "name": "stdout",
     "output_type": "stream",
     "text": [
      "ANOVA for Single Mothers\n",
      "F-value: 1.699, p-value: 0.198\n",
      "\n",
      "ANOVA for Partnered Mothers\n",
      "F-value: 0.123, p-value: 0.946\n",
      "\n",
      "❎ There is NO significant difference in the employment rate of single mothers between the categories of spending on family benefits.\n",
      "\n",
      "❎ There is NO significant difference in the employment rate of partnered mothers between the categories of spending on family benefits.\n"
     ]
    }
   ],
   "source": [
    "# ANOVA for single mothers\n",
    "anova_single = stats.f_oneway(\n",
    "    eda_df[eda_df[\"spending_category\"] == \"Low\"][\"emp_mothers_single\"],\n",
    "    eda_df[eda_df[\"spending_category\"] == \"Medium-Low\"][\"emp_mothers_single\"],\n",
    "    eda_df[eda_df[\"spending_category\"] == \"Medium-High\"][\"emp_mothers_single\"],\n",
    "    eda_df[eda_df[\"spending_category\"] == \"High\"][\"emp_mothers_single\"]\n",
    ")\n",
    "\n",
    "# ANOVA for partnered mothers\n",
    "anova_partnered = stats.f_oneway(\n",
    "    eda_df[eda_df[\"spending_category\"] == \"Low\"][\"emp_mothers_partnered\"],\n",
    "    eda_df[eda_df[\"spending_category\"] == \"Medium-Low\"][\"emp_mothers_partnered\"],\n",
    "    eda_df[eda_df[\"spending_category\"] == \"Medium-High\"][\"emp_mothers_partnered\"],\n",
    "    eda_df[eda_df[\"spending_category\"] == \"High\"][\"emp_mothers_partnered\"]\n",
    ")\n",
    "\n",
    "# Ergebnisse ausgeben\n",
    "print(\"ANOVA for Single Mothers\")\n",
    "print(f\"F-value: {anova_single.statistic:.3f}, p-value: {anova_single.pvalue:.3f}\")\n",
    "print(\"\\nANOVA for Partnered Mothers\")\n",
    "print(f\"F-value: {anova_partnered.statistic:.3f}, p-value: {anova_partnered.pvalue:.3f}\")\n",
    "\n",
    "# Interpretation\n",
    "alpha = 0.05\n",
    "if anova_single.pvalue < alpha:\n",
    "    print(\"\\n🚨 There is a significant difference in the employment rate of single mothers between the categories of spending on family benefits.\")\n",
    "else:\n",
    "    print(\"\\n❎ There is NO significant difference in the employment rate of single mothers between the categories of spending on family benefits.\")\n",
    "\n",
    "if anova_partnered.pvalue < alpha:\n",
    "    print(\"\\n🚨 There is a significant difference in the employment rate of partnered mothers between the categories of spending on family benefits.\")\n",
    "else:\n",
    "    print(\"\\n❎ There is NO significant difference in the employment rate of partnered mothers between the categories of spending on family benefits.\")\n"
   ]
  },
  {
   "cell_type": "markdown",
   "id": "48836ecc",
   "metadata": {},
   "source": [
    "<div style=\"\n",
    "    padding: 15px;\n",
    "    margin: 10px 0;\n",
    "    border: 1px solid #2d0df7;\n",
    "    border-radius: 4px;\n",
    "    background-color: #0dd4f7;\n",
    "    color: #060606;\n",
    "    font-size: 16px;\n",
    "    line-height: 1.5;\n",
    "    word-wrap: break-word;\n",
    "    text-align: left;\">\n",
    "    <strong>Conclusions: ...</strong>\n",
    "<p>TEXT</p>\n",
    "</div>"
   ]
  },
  {
   "cell_type": "markdown",
   "id": "cafd3a5d",
   "metadata": {},
   "source": [
    "## <span style=\"color: #ec7511;\">Hypothesis 3:</span>\n",
    "<p>Countries with longer fully paid parental leave for fathers have a higher maternal employment rate.</p>"
   ]
  },
  {
   "cell_type": "markdown",
   "id": "73979136",
   "metadata": {},
   "source": [
    "### <span style=\"color: #ec300e;\">OLS Regression of Paternal Leave on Maternal Employment</span>"
   ]
  },
  {
   "cell_type": "code",
   "execution_count": 26,
   "id": "8b3d0db2",
   "metadata": {},
   "outputs": [
    {
     "name": "stdout",
     "output_type": "stream",
     "text": [
      "                            OLS Regression Results                            \n",
      "==============================================================================\n",
      "Dep. Variable:           emp_maternal   R-squared:                       0.085\n",
      "Model:                            OLS   Adj. R-squared:                  0.045\n",
      "Method:                 Least Squares   F-statistic:                     2.144\n",
      "Date:                Sat, 08 Feb 2025   Prob (F-statistic):              0.157\n",
      "Time:                        15:28:57   Log-Likelihood:                -83.424\n",
      "No. Observations:                  25   AIC:                             170.8\n",
      "Df Residuals:                      23   BIC:                             173.3\n",
      "Df Model:                           1                                         \n",
      "Covariance Type:            nonrobust                                         \n",
      "===========================================================================================\n",
      "                              coef    std err          t      P>|t|      [0.025      0.975]\n",
      "-------------------------------------------------------------------------------------------\n",
      "const                      70.6909      2.965     23.842      0.000      64.557      76.825\n",
      "fathers_full_paid_leave     0.4701      0.321      1.464      0.157      -0.194       1.134\n",
      "==============================================================================\n",
      "Omnibus:                        4.468   Durbin-Watson:                   2.914\n",
      "Prob(Omnibus):                  0.107   Jarque-Bera (JB):                3.091\n",
      "Skew:                          -0.852   Prob(JB):                        0.213\n",
      "Kurtosis:                       3.255   Cond. No.                         19.5\n",
      "==============================================================================\n",
      "\n",
      "Notes:\n",
      "[1] Standard Errors assume that the covariance matrix of the errors is correctly specified.\n"
     ]
    }
   ],
   "source": [
    "# independent variable (predictor)\n",
    "X = eda_df[\"fathers_full_paid_leave\"]\n",
    "X = sm.add_constant(X)  # add constant term (intercept, the predicted y value when x=0)\n",
    "\n",
    "# dependent variable (target)\n",
    "y = eda_df[\"emp_maternal\"]\n",
    "\n",
    "# OLS regression\n",
    "model = sm.OLS(y, X).fit()\n",
    "\n",
    "print(model.summary())"
   ]
  },
  {
   "cell_type": "markdown",
   "id": "7cb1b2b2",
   "metadata": {},
   "source": [
    "<div style=\"\n",
    "    padding: 15px;\n",
    "    margin: 10px 0;\n",
    "    border: 1px solid #2d0df7;\n",
    "    border-radius: 4px;\n",
    "    background-color: #0dd4f7;\n",
    "    color: #060606;\n",
    "    font-size: 16px;\n",
    "    line-height: 1.5;\n",
    "    word-wrap: break-word;\n",
    "    text-align: left;\">\n",
    "    <strong>Conclusions: ...</strong>\n",
    "<p>TEXT</p>\n",
    "    <ul>\n",
    "        <li>not significant</li>\n",
    "        <li>TEXT</li>\n",
    "        <li>TEXT</li>\n",
    "        <li>TEXT</li>\n",
    "    </ul>\n",
    "</div>"
   ]
  },
  {
   "cell_type": "markdown",
   "id": "c5e03460",
   "metadata": {},
   "source": [
    "## <span style=\"color: #ec7511;\">Hypothesis 4:</span>\n",
    "<p>The higher the education level of women in a country, the higher the maternal employment rate.</p>"
   ]
  },
  {
   "cell_type": "markdown",
   "id": "b99e9f29",
   "metadata": {},
   "source": [
    "### <span style=\"color: #ec300e;\">One Way ANOVA on the Effect of Different Education Level Categories on Maternal Employment</span>"
   ]
  },
  {
   "cell_type": "code",
   "execution_count": 21,
   "id": "446b7d50",
   "metadata": {},
   "outputs": [
    {
     "name": "stdout",
     "output_type": "stream",
     "text": [
      "ANOVA for the influence of edu_women_cat on emp_maternal\n",
      "F-value: 2.776, p-value: 0.084\n",
      "\n",
      "❎  There is NO significant difference in the employment rate of mothers between the different categories of education levels.\n"
     ]
    }
   ],
   "source": [
    "# ANOVA for influence of edu_women_cat on emp_maternal\n",
    "anova_edu = stats.f_oneway(\n",
    "    eda_df[eda_df[\"edu_women_cat\"] == \"Low\"][\"emp_maternal\"],\n",
    "    eda_df[eda_df[\"edu_women_cat\"] == \"Medium\"][\"emp_maternal\"],\n",
    "    eda_df[eda_df[\"edu_women_cat\"] == \"High\"][\"emp_maternal\"]\n",
    ")\n",
    "\n",
    "print(\"ANOVA for the influence of edu_women_cat on emp_maternal\")\n",
    "print(f\"F-value: {anova_edu.statistic:.3f}, p-value: {anova_edu.pvalue:.3f}\")\n",
    "\n",
    "# Interpretation\n",
    "alpha = 0.05\n",
    "if anova_edu.pvalue < alpha:\n",
    "    print(\"\\n🚨 There is a significant difference in the employment rate of mothers between the different categories of education levels.\")\n",
    "else:\n",
    "    print(\"\\n❎  There is NO significant difference in the employment rate of mothers between the different categories of education levels.\")"
   ]
  },
  {
   "cell_type": "markdown",
   "id": "a3d73b34",
   "metadata": {},
   "source": [
    "### <span style=\"color: #ec300e;\">OLS Regression on the Effect of Different Education Level Scores on Maternal Employment</span>"
   ]
  },
  {
   "cell_type": "code",
   "execution_count": 20,
   "id": "fb73096a",
   "metadata": {},
   "outputs": [
    {
     "name": "stdout",
     "output_type": "stream",
     "text": [
      "                            OLS Regression Results                            \n",
      "==============================================================================\n",
      "Dep. Variable:           emp_maternal   R-squared:                       0.217\n",
      "Model:                            OLS   Adj. R-squared:                  0.183\n",
      "Method:                 Least Squares   F-statistic:                     6.361\n",
      "Date:                Sat, 08 Feb 2025   Prob (F-statistic):             0.0190\n",
      "Time:                        14:54:04   Log-Likelihood:                -81.486\n",
      "No. Observations:                  25   AIC:                             167.0\n",
      "Df Residuals:                      23   BIC:                             169.4\n",
      "Df Model:                           1                                         \n",
      "Covariance Type:            nonrobust                                         \n",
      "===================================================================================\n",
      "                      coef    std err          t      P>|t|      [0.025      0.975]\n",
      "-----------------------------------------------------------------------------------\n",
      "const              24.7332     19.777      1.251      0.224     -16.179      65.645\n",
      "edu_women_score    23.1929      9.196      2.522      0.019       4.170      42.216\n",
      "==============================================================================\n",
      "Omnibus:                        2.370   Durbin-Watson:                   2.944\n",
      "Prob(Omnibus):                  0.306   Jarque-Bera (JB):                1.149\n",
      "Skew:                           0.483   Prob(JB):                        0.563\n",
      "Kurtosis:                       3.415   Cond. No.                         39.4\n",
      "==============================================================================\n",
      "\n",
      "Notes:\n",
      "[1] Standard Errors assume that the covariance matrix of the errors is correctly specified.\n"
     ]
    }
   ],
   "source": [
    "# independent variable (predictor)\n",
    "X = eda_df[\"edu_women_score\"]\n",
    "X = sm.add_constant(X)  # add constant term (intercept, the predicted y value when x=0)\n",
    "\n",
    "# dependent variable (target)\n",
    "y = eda_df[\"emp_maternal\"]\n",
    "\n",
    "# OLS regression\n",
    "model = sm.OLS(y, X).fit()\n",
    "\n",
    "print(model.summary())\n"
   ]
  },
  {
   "cell_type": "markdown",
   "id": "de39d72c",
   "metadata": {},
   "source": [
    "<div style=\"\n",
    "    padding: 15px;\n",
    "    margin: 10px 0;\n",
    "    border: 1px solid #2d0df7;\n",
    "    border-radius: 4px;\n",
    "    background-color: #0dd4f7;\n",
    "    color: #060606;\n",
    "    font-size: 16px;\n",
    "    line-height: 1.5;\n",
    "    word-wrap: break-word;\n",
    "    text-align: left;\">\n",
    "    <strong>Conclusions: ...</strong>\n",
    "<p>YES FINALLY FOUND SOMETHING</p>\n",
    "    <ul>\n",
    "        <li>OLS interpretation: 18.3% of emp_maternal is explained by education level score. Significant: f-statistics p<0.05! The coefficient of 23.19 shows: an increase of 1 point in the education score would lead to an increase in the employment rate of 23.2 %.</li>\n",
    "        <li>TEXT</li>\n",
    "        <li>TEXT</li>\n",
    "        <li>TEXT</li>\n",
    "    </ul>\n",
    "</div>"
   ]
  },
  {
   "cell_type": "markdown",
   "id": "2e5734f5",
   "metadata": {},
   "source": [
    "## <span style=\"color: #ec7511;\">Hypothesis 6:</span>\n",
    "<p>In countries where more men work part-time, maternal employment rates are higher.</p>"
   ]
  },
  {
   "cell_type": "markdown",
   "id": "1aece108",
   "metadata": {},
   "source": [
    "### <span style=\"color: #ec300e;\">OLS Regression on the Effect of Male Part-Time Employment Rate on Maternal Employment</span>"
   ]
  },
  {
   "cell_type": "code",
   "execution_count": 27,
   "id": "ad2cf439",
   "metadata": {},
   "outputs": [
    {
     "name": "stdout",
     "output_type": "stream",
     "text": [
      "                            OLS Regression Results                            \n",
      "==============================================================================\n",
      "Dep. Variable:           emp_maternal   R-squared:                       0.099\n",
      "Model:                            OLS   Adj. R-squared:                  0.060\n",
      "Method:                 Least Squares   F-statistic:                     2.537\n",
      "Date:                Sat, 08 Feb 2025   Prob (F-statistic):              0.125\n",
      "Time:                        15:31:04   Log-Likelihood:                -83.231\n",
      "No. Observations:                  25   AIC:                             170.5\n",
      "Df Residuals:                      23   BIC:                             172.9\n",
      "Df Model:                           1                                         \n",
      "Covariance Type:            nonrobust                                         \n",
      "==============================================================================\n",
      "                 coef    std err          t      P>|t|      [0.025      0.975]\n",
      "------------------------------------------------------------------------------\n",
      "const         70.9265      2.650     26.761      0.000      65.444      76.409\n",
      "emp_men_pt     0.4561      0.286      1.593      0.125      -0.136       1.048\n",
      "==============================================================================\n",
      "Omnibus:                        2.514   Durbin-Watson:                   2.685\n",
      "Prob(Omnibus):                  0.284   Jarque-Bera (JB):                1.132\n",
      "Skew:                          -0.412   Prob(JB):                        0.568\n",
      "Kurtosis:                       3.638   Cond. No.                         17.6\n",
      "==============================================================================\n",
      "\n",
      "Notes:\n",
      "[1] Standard Errors assume that the covariance matrix of the errors is correctly specified.\n"
     ]
    }
   ],
   "source": [
    "# independent variable (predictor)\n",
    "X = eda_df[\"emp_men_pt\"]\n",
    "X = sm.add_constant(X)  # add constant term (intercept, the predicted y value when x=0)\n",
    "\n",
    "# dependent variable (target)\n",
    "y = eda_df[\"emp_maternal\"]\n",
    "\n",
    "# OLS regression\n",
    "model = sm.OLS(y, X).fit()\n",
    "\n",
    "print(model.summary())"
   ]
  },
  {
   "cell_type": "markdown",
   "id": "36f265be",
   "metadata": {},
   "source": [
    "<div style=\"\n",
    "    padding: 15px;\n",
    "    margin: 10px 0;\n",
    "    border: 1px solid #2d0df7;\n",
    "    border-radius: 4px;\n",
    "    background-color: #0dd4f7;\n",
    "    color: #060606;\n",
    "    font-size: 16px;\n",
    "    line-height: 1.5;\n",
    "    word-wrap: break-word;\n",
    "    text-align: left;\">\n",
    "    <strong>Conclusions: ...</strong>\n",
    "<p>TEXT</p>\n",
    "    <ul>\n",
    "        <li>not significant</li>\n",
    "        <li>TEXT</li>\n",
    "        <li>TEXT</li>\n",
    "        <li>TEXT</li>\n",
    "    </ul>\n",
    "</div>"
   ]
  },
  {
   "cell_type": "markdown",
   "id": "8f32437e",
   "metadata": {},
   "source": [
    "<h1 style=\"color: #e3db24;\">03 | Multiple Regression</h1>"
   ]
  },
  {
   "cell_type": "markdown",
   "id": "2500ae58-541b-4aed-bb65-0ae83e83744b",
   "metadata": {},
   "source": [
    "<h1 style=\"color: #e3db24;\">04 | Data Processing</h1>"
   ]
  },
  {
   "cell_type": "markdown",
   "id": "962091ba-0828-4428-8ed2-7735f4164e78",
   "metadata": {},
   "source": [
    "<h2 style=\"color: #ec7511;\">X-Y Split</h2>"
   ]
  },
  {
   "cell_type": "markdown",
   "id": "bf53c008-e656-41e3-9c59-63f985b32bae",
   "metadata": {
    "tags": []
   },
   "source": [
    "<h2 style=\"color: #ec7511;\">Normalizing the Data</h2>"
   ]
  },
  {
   "cell_type": "markdown",
   "id": "c9135f41-5016-482d-8e0c-c49023c9ae50",
   "metadata": {
    "tags": []
   },
   "source": [
    "<h1 style=\"color: #e3db24;\">05 | Modeling</h1>"
   ]
  },
  {
   "cell_type": "markdown",
   "id": "7f81348e-f517-477c-badf-7d4e38cbb5e2",
   "metadata": {},
   "source": [
    "<h2 style=\"color: #ec7511;\">Train-Test Split</h2>"
   ]
  },
  {
   "cell_type": "markdown",
   "id": "e5afc04f-ffed-4e93-b4e8-d43562717ace",
   "metadata": {},
   "source": [
    "<h2 style=\"color: #ec7511;\">Model Validation</h2>"
   ]
  },
  {
   "cell_type": "markdown",
   "id": "76ca3f20-b395-4e33-b267-5421a00c7712",
   "metadata": {
    "tags": []
   },
   "source": [
    "<h1 style=\"color: #e3db24;\">06 | Improving the Model</h1>"
   ]
  },
  {
   "cell_type": "markdown",
   "id": "1a9a1325-cbf7-414d-b39e-41824d11e7f5",
   "metadata": {},
   "source": [
    "<h1 style=\"color: #e3db24;\">07 | Reporting</h1>"
   ]
  }
 ],
 "metadata": {
  "kernelspec": {
   "display_name": "final-project",
   "language": "python",
   "name": "python3"
  },
  "language_info": {
   "codemirror_mode": {
    "name": "ipython",
    "version": 3
   },
   "file_extension": ".py",
   "mimetype": "text/x-python",
   "name": "python",
   "nbconvert_exporter": "python",
   "pygments_lexer": "ipython3",
   "version": "3.9.21"
  }
 },
 "nbformat": 4,
 "nbformat_minor": 5
}

{
 "cells": [
  {
   "cell_type": "raw",
   "id": "5f4c0ff0-82ef-443e-9380-0ac9f84de352",
   "metadata": {},
   "source": [
    "Different headlines:\n",
    "\n",
    "<h1 style=\"color: #e3db24;\">08 | Improving the Model</h1>\n",
    "<h2 style=\"color: #ec7511;\">Normalization using MinMaxScaler</h2>\n",
    "<h3 style=\"color: #ec300e;\">X-y Split</h3>\n",
    "<h4 style=\"color: #bb1010;\">Metrics</h4>\n",
    "<h5 style=\"color: #bb1066;\">so so</h5>\n",
    "\n",
    "Graphic Colors:\n",
    "\n",
    "Rosa: \n",
    "Orange:e8\n"
   ]
  },
  {
   "cell_type": "markdown",
   "id": "7813165d",
   "metadata": {},
   "source": [
    "# <span style=\"color: #e3db24;\">00 | Libraries and Settings</span>"
   ]
  },
  {
   "cell_type": "code",
   "execution_count": 3,
   "id": "85e114a5-e25d-41df-a862-9065ecd00ead",
   "metadata": {},
   "outputs": [],
   "source": [
    "# 📕📗📘 Basic Libraries\n",
    "import pandas as pd\n",
    "import glob\n",
    "import numpy as np\n",
    "from numpy import rec\n",
    "import os\n",
    "import matplotlib.pyplot as plt\n",
    "import seaborn as sns\n",
    "from scipy import stats\n",
    "\n",
    "\n",
    "# 🛞 Machine Learning\n",
    "import xgboost as xgb\n",
    "import statsmodels.api as sm\n",
    "import sklearn\n",
    "from sklearn.model_selection import train_test_split\n",
    "from sklearn.linear_model import LinearRegression\n",
    "from sklearn.metrics import r2_score, mean_squared_error, mean_absolute_error"
   ]
  },
  {
   "cell_type": "code",
   "execution_count": 4,
   "id": "e6cbd84d-ff14-4af3-9a92-e0218d348fbf",
   "metadata": {},
   "outputs": [],
   "source": [
    "# 🙌 Settings\n",
    "pd.set_option('display.max_columns', None) # display all columns\n",
    "pd.set_option('display.float_format', '{:,.2f}'.format)\n",
    "import warnings\n",
    "warnings.filterwarnings('ignore') # ignore warnings"
   ]
  },
  {
   "cell_type": "markdown",
   "id": "0114e245-9195-45ae-867a-7f3e0f08fe35",
   "metadata": {
    "tags": []
   },
   "source": [
    "# <span style=\"color: #e3db24;\">01 | Data Extraction and Exploration</span>\n"
   ]
  },
  {
   "cell_type": "markdown",
   "id": "0ce31b7e-df64-49c9-b289-eb3e6505de82",
   "metadata": {},
   "source": [
    "<div style=\"\n",
    "    padding: 15px;\n",
    "    margin: 10px 0;\n",
    "    border: 1px solid #f7be0d;\n",
    "    border-radius: 4px;\n",
    "    background-color: #e3db24;\n",
    "    color: #060606;\n",
    "    font-size: 16px;\n",
    "    line-height: 1.5;\n",
    "    word-wrap: break-word;\n",
    "    text-align: left;\">\n",
    "    <strong>Next Steps: Merge all excel files on the column \"country\"</strong>\n",
    "<p>I have extracted 20 excel files containing data on female labour and indicators which might be connected to it from the OECD Family Database and the Eurostat Labour Force Survey. Each file contains at least two columns, some several. Each table contains the column \"country\". In the following, I will create one dataframe for all the data and merge them on their common column \"country\".</p>\n",
    "</div>"
   ]
  },
  {
   "cell_type": "code",
   "execution_count": 5,
   "id": "10502ec3-d24e-4f63-ac63-107c27836688",
   "metadata": {},
   "outputs": [],
   "source": [
    "folder_path = \"data/edited_data\"  # path to folder containing the data\n",
    "file_pattern = f\"{folder_path}/*.xlsx\" # pattern to identify data\n",
    "\n",
    "excel_files = glob.glob(file_pattern) # list of all excel files in this folder, the globe library finds every file according to the pattern\n",
    "\n",
    "if len(excel_files) == 0: # raising an error if there are no excel files\n",
    "    raise FileNotFoundError(\"No excel files found in this directory.\")\n",
    "\n",
    "merged_df = pd.read_excel(excel_files[0]) # import the first file\n",
    "\n",
    "for file in excel_files[1:]: # iterate over all the other files and merging them one after the other\n",
    "    df = pd.read_excel(file)\n",
    "    merged_df = pd.merge(merged_df, df, on=\"country\", how=\"outer\")  # all rows, not only with countries from the first file"
   ]
  },
  {
   "cell_type": "markdown",
   "id": "185183d1",
   "metadata": {},
   "source": [
    "<h2 style=\"color: #ec7511;\">Exploring the Data (First Impressions)</h2>"
   ]
  },
  {
   "cell_type": "code",
   "execution_count": null,
   "id": "fe01b6fe-59da-4902-b3f7-0a42ab647260",
   "metadata": {},
   "outputs": [],
   "source": [
    "merged_df.shape"
   ]
  },
  {
   "cell_type": "code",
   "execution_count": null,
   "id": "83d0f725-33ae-4675-b306-de8cb25dc3d4",
   "metadata": {},
   "outputs": [],
   "source": [
    "merged_df.columns"
   ]
  },
  {
   "cell_type": "code",
   "execution_count": null,
   "id": "e19be84e-24e9-403a-8e69-edabd4fb83c2",
   "metadata": {},
   "outputs": [],
   "source": [
    "merged_df.head(10)"
   ]
  },
  {
   "cell_type": "code",
   "execution_count": null,
   "id": "a648055e",
   "metadata": {},
   "outputs": [],
   "source": [
    "merged_df.sample(10)"
   ]
  },
  {
   "cell_type": "code",
   "execution_count": null,
   "id": "b58b7363",
   "metadata": {},
   "outputs": [],
   "source": [
    "merged_df.info()"
   ]
  },
  {
   "cell_type": "code",
   "execution_count": null,
   "id": "7b147f87",
   "metadata": {},
   "outputs": [],
   "source": [
    "merged_df.dtypes"
   ]
  },
  {
   "cell_type": "code",
   "execution_count": null,
   "id": "cd5d6b54",
   "metadata": {},
   "outputs": [],
   "source": [
    "merged_df.describe(include=\"all\").T"
   ]
  },
  {
   "cell_type": "code",
   "execution_count": null,
   "id": "3832c050",
   "metadata": {},
   "outputs": [],
   "source": [
    "merged_df.isnull().sum()"
   ]
  },
  {
   "cell_type": "markdown",
   "id": "2e206be2",
   "metadata": {},
   "source": [
    "<div style=\"\n",
    "    padding: 15px;\n",
    "    margin: 10px 0;\n",
    "    border: 1px solid #2d0df7;\n",
    "    border-radius: 4px;\n",
    "    background-color: #0dd4f7;\n",
    "    color: #060606;\n",
    "    font-size: 16px;\n",
    "    line-height: 1.5;\n",
    "    word-wrap: break-word;\n",
    "    text-align: left;\">\n",
    "    <strong>Conclusions: ...</strong>\n",
    "<p>TEXT</p>\n",
    "    <ul>\n",
    "        <li>TEXT</li>\n",
    "        <li>TEXT</li>\n",
    "        <li>TEXT</li>\n",
    "        <li>TEXT</li>\n",
    "    </ul>\n",
    "</div>"
   ]
  },
  {
   "cell_type": "markdown",
   "id": "417a8a85-bc10-46e3-9494-fac45f62ad64",
   "metadata": {},
   "source": [
    "# <span style=\"color: #e3db24;\">02 | Data Cleaning</span>"
   ]
  },
  {
   "cell_type": "markdown",
   "id": "58ec1312-cfbe-4a90-829c-d4ace665595b",
   "metadata": {
    "tags": []
   },
   "source": [
    "## <span style=\"color: #ec7511;\">Country Selection</span>"
   ]
  },
  {
   "cell_type": "markdown",
   "id": "e0d5b896",
   "metadata": {},
   "source": [
    "<div style=\"\n",
    "    padding: 15px;\n",
    "    margin: 10px 0;\n",
    "    border: 1px solid #f7be0d;\n",
    "    border-radius: 4px;\n",
    "    background-color: #e3db24;\n",
    "    color: #060606;\n",
    "    font-size: 16px;\n",
    "    line-height: 1.5;\n",
    "    word-wrap: break-word;\n",
    "    text-align: left;\">\n",
    "    <strong>Next Steps: Keeping only EU countries</strong>\n",
    "<p>After checking the number of missing values, I decided to do the main analysis only on EU countries as the data is most complete and it allows a coherent approach as the selection of countries is based on a speicific condition (EU membership).</p>\n",
    "</div>"
   ]
  },
  {
   "cell_type": "code",
   "execution_count": 6,
   "id": "f82e7174",
   "metadata": {},
   "outputs": [],
   "source": [
    "oecd_countries = [\"Australia\", \"Austria\", \"Belgium\", \"Canada\", \"Chile\", \"Colombia\", \"Costa Rica\", \"Czech Republic\", \"Denmark\", \"Estonia\", \"Finland\", \"France\", \"Germany\", \"Greece\", \"Hungary\", \"Iceland\", \"Ireland\", \"Israel\", \"Italy\", \"Japan\", \"Korea\", \"Latvia\", \"Lithuania\", \"Luxembourg\", \"Mexico\", \"Netherlands\", \"New Zealand\", \"Norway\", \"Poland\", \"Portugal\", \"Slovak Republic\", \"Slovenia\", \"Spain\", \"Sweden\", \"Switzerland\", \"Turkey\", \"United Kingdom\", \"United States\"]\n",
    "eu_countries = [\"Austria\", \"Belgium\", \"Bulgaria\", \"Croatia\", \"Cyprus\", \"Czechia\", \"Denmark\", \"Estonia\", \"Finland\", \"France\", \"Germany\", \"Greece\", \"Hungary\", \"Ireland\", \"Italy\", \"Latvia\", \"Lithuania\", \"Luxembourg\", \"Malta\", \"Netherlands\", \"Poland\", \"Portugal\", \"Romania\", \"Slovakia\", \"Slovenia\", \"Spain\", \"Sweden\"]"
   ]
  },
  {
   "cell_type": "code",
   "execution_count": 7,
   "id": "e0e83c90",
   "metadata": {},
   "outputs": [
    {
     "name": "stdout",
     "output_type": "stream",
     "text": [
      "(38, 37)\n",
      "country                                                      0\n",
      "%_male_users_parental_leave_2021                            16\n",
      "avg_number_children_per_woman_2021                           1\n",
      "emp_rate_women                                              15\n",
      "empl_rate_men                                               15\n",
      "employment_rate_partnered_mothers_2021                       1\n",
      "employment_rate_single_mothers_2021                          1\n",
      "fathers_empl_rate_child_younger_than_6_2023                 16\n",
      "mothers_empl_rate_child_younger_than_6_2023                 16\n",
      "fathers_empl_rate_child6-11_2023                            16\n",
      "mothers_empl_rate_child6-11_2023                            16\n",
      "gender_gap_ft_equivalent_employment_rate_2021                3\n",
      "gender-pay-gap_2023                                          2\n",
      "maternal_emp_rate_low_edu_2024                               1\n",
      "maternal_emp_rate_med_edu_2024                               1\n",
      "maternal_emp_rate_high_edu_2024                              1\n",
      "maternal_emp_rate_w_1_child_0-14                             1\n",
      "maternal_emp_rate_w_2_child_0-14                             1\n",
      "maternal_emp_rate_w_more_than_2_child_0-14                   1\n",
      "maternal_emp_rate                                            1\n",
      "maternal_pt_emp_rate                                         1\n",
      "maternal_ft_emp_rate                                         1\n",
      "mean_age_women_first_birth_2020                              1\n",
      "paternal_number_weeks_full_paid_leave                        2\n",
      "maternal_number_weeks_full_paid_leave                        2\n",
      "number_households_0_child                                    1\n",
      "number_households_1_child                                    1\n",
      "number_households_2_child                                    1\n",
      "number_households_more_than_2_child                          1\n",
      "share_empl_pt_women                                         15\n",
      "share_empl_pt_men                                           15\n",
      "public_spending_early_childhood_education_care_%GDP_2019     4\n",
      "public_spending_family_benefits_total_%GDP_2019              1\n",
      "spending_education                                          18\n",
      "spending_on_education_%GDP_2021                              4\n",
      "spending_family_benefits                                    18\n",
      "rate_women_managers_2021                                     5\n",
      "dtype: int64\n"
     ]
    }
   ],
   "source": [
    "oecd_df = merged_df[merged_df['country'].isin(oecd_countries)]\n",
    "print(oecd_df.shape)\n",
    "print(oecd_df.isna().sum())"
   ]
  },
  {
   "cell_type": "code",
   "execution_count": 8,
   "id": "06eb73ac",
   "metadata": {},
   "outputs": [
    {
     "name": "stdout",
     "output_type": "stream",
     "text": [
      "(27, 37)\n",
      "country                                                      0\n",
      "%_male_users_parental_leave_2021                            14\n",
      "avg_number_children_per_woman_2021                           2\n",
      "emp_rate_women                                               0\n",
      "empl_rate_men                                                0\n",
      "employment_rate_partnered_mothers_2021                       2\n",
      "employment_rate_single_mothers_2021                          2\n",
      "fathers_empl_rate_child_younger_than_6_2023                  0\n",
      "mothers_empl_rate_child_younger_than_6_2023                  0\n",
      "fathers_empl_rate_child6-11_2023                             0\n",
      "mothers_empl_rate_child6-11_2023                             0\n",
      "gender_gap_ft_equivalent_employment_rate_2021                2\n",
      "gender-pay-gap_2023                                          1\n",
      "maternal_emp_rate_low_edu_2024                               2\n",
      "maternal_emp_rate_med_edu_2024                               2\n",
      "maternal_emp_rate_high_edu_2024                              2\n",
      "maternal_emp_rate_w_1_child_0-14                             2\n",
      "maternal_emp_rate_w_2_child_0-14                             2\n",
      "maternal_emp_rate_w_more_than_2_child_0-14                   2\n",
      "maternal_emp_rate                                            2\n",
      "maternal_pt_emp_rate                                         2\n",
      "maternal_ft_emp_rate                                         2\n",
      "mean_age_women_first_birth_2020                              2\n",
      "paternal_number_weeks_full_paid_leave                        1\n",
      "maternal_number_weeks_full_paid_leave                        1\n",
      "number_households_0_child                                    2\n",
      "number_households_1_child                                    2\n",
      "number_households_2_child                                    2\n",
      "number_households_more_than_2_child                          2\n",
      "share_empl_pt_women                                          0\n",
      "share_empl_pt_men                                            0\n",
      "public_spending_early_childhood_education_care_%GDP_2019     6\n",
      "public_spending_family_benefits_total_%GDP_2019              7\n",
      "spending_education                                           0\n",
      "spending_on_education_%GDP_2021                              4\n",
      "spending_family_benefits                                     0\n",
      "rate_women_managers_2021                                     3\n",
      "dtype: int64\n"
     ]
    }
   ],
   "source": [
    "eu_df = merged_df[merged_df['country'].isin(eu_countries)]\n",
    "print(eu_df.shape)\n",
    "print(eu_df.isna().sum())"
   ]
  },
  {
   "cell_type": "markdown",
   "id": "9aa13041",
   "metadata": {},
   "source": [
    "## <span style=\"color: #ec7511;\">Feature Selection</span>"
   ]
  },
  {
   "cell_type": "markdown",
   "id": "fe4a520e",
   "metadata": {},
   "source": [
    "<div style=\"\n",
    "    padding: 15px;\n",
    "    margin: 10px 0;\n",
    "    border: 1px solid #f7be0d;\n",
    "    border-radius: 4px;\n",
    "    background-color: #e3db24;\n",
    "    color: #060606;\n",
    "    font-size: 16px;\n",
    "    line-height: 1.5;\n",
    "    word-wrap: break-word;\n",
    "    text-align: left;\">\n",
    "    <strong>Dropping Features</strong>\n",
    "    <ul>\n",
    "        <li>\"%_male_users_parental_leave_2021\": will be dropped from the eu_df because of the high number of NaNs</li>\n",
    "        <li>All other columns will be kept for now to analyze differences between countries and influence factors on female and maternal employment.</li>\n",
    "    </ul>\n",
    "</div>"
   ]
  },
  {
   "cell_type": "code",
   "execution_count": 9,
   "id": "01f358a6",
   "metadata": {},
   "outputs": [
    {
     "data": {
      "text/plain": [
       "(27, 36)"
      ]
     },
     "execution_count": 9,
     "metadata": {},
     "output_type": "execute_result"
    }
   ],
   "source": [
    "eu_df = eu_df.drop(columns=[\"%_male_users_parental_leave_2021\"])\n",
    "eu_df.shape"
   ]
  },
  {
   "cell_type": "markdown",
   "id": "3739b7b2",
   "metadata": {},
   "source": [
    "<div style=\"\n",
    "    padding: 15px;\n",
    "    margin: 10px 0;\n",
    "    border: 1px solid #0df722;\n",
    "    border-radius: 4px;\n",
    "    background-color: #0df794;\n",
    "    color: #060606;\n",
    "    font-size: 16px;\n",
    "    line-height: 1.5;\n",
    "    word-wrap: break-word;\n",
    "    text-align: left;\">\n",
    "    <strong>Extra Analysis on Paternal Leave:</strong> I will do an extra analysis on \"%_male_users_parental_leave_2021\" based on the countries which provide numbers for this. I expect the number of fathers who take a paternal leave to have influence on the employment rate and amount of mothers. Therefore, I will analyse the relationship between this column and the columns \"maternal_emp_rate\", \"maternal_pt_emp_rate\" and \"maternal_ft_emp_rate\".\n",
    "</div>"
   ]
  },
  {
   "cell_type": "code",
   "execution_count": 10,
   "id": "395b38e2",
   "metadata": {},
   "outputs": [
    {
     "name": "stdout",
     "output_type": "stream",
     "text": [
      "(22, 5)\n",
      "country                             0\n",
      "%_male_users_parental_leave_2021    0\n",
      "maternal_emp_rate                   0\n",
      "maternal_pt_emp_rate                0\n",
      "maternal_ft_emp_rate                0\n",
      "dtype: int64\n"
     ]
    }
   ],
   "source": [
    "df_paternal_leave = merged_df[merged_df[\"%_male_users_parental_leave_2021\"].notna()]\n",
    "df_paternal_leave = df_paternal_leave[[\"country\", \"%_male_users_parental_leave_2021\",\n",
    "                                       \"maternal_emp_rate\", \"maternal_pt_emp_rate\", \"maternal_ft_emp_rate\"]]\n",
    "print(df_paternal_leave.shape)\n",
    "print(df_paternal_leave.isna().sum())"
   ]
  },
  {
   "cell_type": "markdown",
   "id": "1d752217-91a4-4243-bc1d-ff01ef71abe8",
   "metadata": {
    "tags": []
   },
   "source": [
    "## <span style=\"color: #ec7511;\">Renaming Columns</span>"
   ]
  },
  {
   "cell_type": "code",
   "execution_count": null,
   "id": "6e9674ca",
   "metadata": {},
   "outputs": [],
   "source": [
    "eu_df.columns"
   ]
  },
  {
   "cell_type": "code",
   "execution_count": 11,
   "id": "3fe45964",
   "metadata": {},
   "outputs": [],
   "source": [
    "eu_df.rename(columns= {\n",
    "    \"avg_number_children_per_woman_2021\": \"num_children\",\n",
    "    \"emp_rate_women\": \"emp_women\",\n",
    "    \"empl_rate_men\": \"emp_men\",\n",
    "    \"employment_rate_partnered_mothers_2021\": \"emp_mothers_partnered\",\n",
    "    \"employment_rate_single_mothers_2021\": \"emp_mothers_single\",\n",
    "    \"fathers_empl_rate_child_younger_than_6_2023\": \"emp_fathers_child_younger_than_6\",\n",
    "    \"mothers_empl_rate_child_younger_than_6_2023\": \"emp_mothers_child_younger_than_6\",\n",
    "    \"fathers_empl_rate_child6-11_2023\": \"emp_fathers_child_6_11\",\n",
    "    \"mothers_empl_rate_child6-11_2023\": \"emp_mothers_child_6_11\",\n",
    "    \"gender_gap_ft_equivalent_employment_rate_2021\": \"gender_emp_gap\",\n",
    "    \"gender-pay-gap_2023\": \"gender_pay_gap\",\n",
    "    \"maternal_emp_rate_low_edu_2024\": \"emp_mothers_low_edu\",\n",
    "    \"maternal_emp_rate_med_edu_2024\": \"emp_mothers_med_edu\",\n",
    "    \"maternal_emp_rate_high_edu_2024\": \"emp_mothers_high_edu\",\n",
    "    \"maternal_emp_rate_w_1_child_0-14\": \"emp_mothers_1_young_child\",\n",
    "    \"maternal_emp_rate_w_2_child_0-14\": \"emp_mothers_2_young_child\",\n",
    "    \"maternal_emp_rate_w_more_than_2_child_0-14\": \"emp_mothers_more_than_2_young_child\",\n",
    "    \"maternal_emp_rate\": \"emp_mothers\",\n",
    "    \"maternal_pt_emp_rate\": \"emp_mothers_pt\",\n",
    "    \"maternal_ft_emp_rate\": \"emp_mothers_ft\",\n",
    "    \"mean_age_women_first_birth_2020\": \"age_first_birth\",\n",
    "    \"paternal_number_weeks_full_paid_leave\": \"fathers_full_paid_leave\",\n",
    "    \"maternal_number_weeks_full_paid_leave\": \"mothers_full_paid_leave\",\n",
    "    \"number_households_0_child\": \"households_0_child\",\n",
    "    \"number_households_1_child\": \"households_1_child\",\n",
    "    \"number_households_2_child\": \"households_2_child\", \n",
    "    \"number_households_more_than_2_child\": \"households_more_than_2_child\",\n",
    "    \"share_empl_pt_women\": \"emp_women_pt\",\n",
    "    \"share_empl_pt_men\": \"emp_men_pt\",\n",
    "    \"public_spending_early_childhood_education_care_%GDP_2019\": \"spending_early_childhood\",\n",
    "    \"public_spending_family_benefits_total_%GDP_2019\": \"spending_family_benefits\",\n",
    "    \"spending_on_education_%GDP_2021\": \"spending_education\",\n",
    "    \"rate_women_managers_2021\": \"manager_women\",   \n",
    "    }, inplace=True)"
   ]
  },
  {
   "cell_type": "markdown",
   "id": "64afef74",
   "metadata": {},
   "source": [
    "<div style=\"\n",
    "    padding: 15px;\n",
    "    margin: 10px 0;\n",
    "    border: 1px solid #0df722;\n",
    "    border-radius: 4px;\n",
    "    background-color: #0df794;\n",
    "    color: #060606;\n",
    "    font-size: 16px;\n",
    "    line-height: 1.5;\n",
    "    word-wrap: break-word;\n",
    "    text-align: left;\">\n",
    "<p><strong>Info: Column Guide</strong></p>\n",
    "<p>(in most cases the data refers to the last available data for this column, mostly between 2019-2024. For more information, please look in the excel file \"overview_data.xlsx\" in the data folder)</p>\n",
    "\n",
    "<p>Societal and Demographic Conditions: General Employment Rates, Gender Gaps, Household Size, Number of Children, Mean Age Mothers:</p>\n",
    "    <ul>\n",
    "        <li><strong>country</strong>: name of the country</li>\n",
    "        <li><strong>emp_women</strong>: employment rate of women (% of women employed)</li>\n",
    "        <li><strong>emp_men</strong>: employment rate of men (% of men employed)</li>\n",
    "        <li><strong>emp_women_pt</strong>: rate of women who work part-time</li>\n",
    "        <li><strong>emp_men_pt</strong>: rate of men who work part-time</li>\n",
    "        <li><strong>gender_emp_gap</strong>: gender employment gap (fulltime equivalent)</li>\n",
    "        <li><strong>gender_pay_gap</strong>: pay gap between the genders (median earnings, fulltime)</li>\n",
    "        <li><strong>manager_women</strong>: proportion (%) of managers that are women </li>\n",
    "        <li><strong>num_children</strong>: the number of children per woman</li>\n",
    "        <li><strong>age_first_birth</strong>: mean age of women when they have their first child</li>\n",
    "        <li><strong>households_0_child</strong>: number of households with no children (data is from 2015)</li>\n",
    "        <li><strong>households_1_child</strong>: number of households with one childr (data is from 2015)</li>\n",
    "        <li><strong>households_2_child</strong>: number of households with two children (data is from 2015)</li>\n",
    "        <li><strong>households_more_than_2_child</strong>: number of households with more than two children (data is from 2015)</li>\n",
    "    </ul>\n",
    "<p>Parental Employment Patterns: Different Employment Rates for Mothers and Fathers (Part-time/ Full-time, Age of Children, Education):</p>\n",
    "    <ul>\n",
    "        <li><strong>emp_mothers</strong>: employment rate of mothers (15-64 years old) who have at least one child under 14; no distinction between full-time and part-time</li>\n",
    "        <li><strong>emp_mothers_pt</strong>: part-time employment rate of mothers (15-64 years old) who have at least one child under 14</li>\n",
    "        <li><strong>emp_mothers_ft</strong>: full-time employment rate of mothers (15-64 years old) who have at least one child under 14</li>\n",
    "        <li><strong>emp_mothers_partnered</strong>: employment rate of partnered mothers</li>\n",
    "        <li><strong>emp_mothers_single</strong>: employment rate of single mothers</li>\n",
    "        <li><strong>emp_fathers_child_younger_than_6</strong>: employment rate of fathers who have at least one child who is younger than 6</li>\n",
    "        <li><strong>emp_mothers_child_younger_than_6</strong>: employment rate of mothers who have at least one child who is younger than 6</li>\n",
    "        <li><strong>emp_fathers_child_6_11</strong>: employment rate of fathers who have at least one child who is between 6 and 11</li>\n",
    "        <li><strong>emp_mothers_child_6_11</strong>: employment rate of mothers who have at least one child who is between 6 and 11</li>\n",
    "        <li><strong>emp_mothers_1_young_child</strong>: employment rate of mothers with one child under 14</li>\n",
    "        <li><strong>emp_mothers_2_young_child</strong>: employment rate of mothers with two children under 14</li>\n",
    "        <li><strong>emp_mothers_more_than_2_young_child</strong>: employment rate of mothers with more than two children under 14</li>\n",
    "        <li><strong>emp_mothers_low_edu</strong>: employment rate of mothers who have a low level of education and a youngest child who is between 0-14</li>\n",
    "        <li><strong>emp_mothers_med_edu</strong>: employment rate of mothers who have a medium level of education and a youngest child who is between 0-14</li>\n",
    "        <li><strong>emp_mothers_high_edu</strong>: employment rate of mothers who have a high level of education and a youngest child who is between 0-14</li>\n",
    "    </ul>\n",
    "<p>Government Support and Family Benefits: Spending of State on Family-Related Fields and Parental Allowance:</p>\n",
    "    <ul>      \n",
    "        <li><strong>fathers_full_paid_leave</strong>: number of weeks a father receives full paid leave when a child is born</li>\n",
    "        <li><strong>mothers_full_paid_leave</strong>: number of weeks a mothers receives full paid leave when a child is born</li>\n",
    "        <li><strong>spending_early_childhood</strong>: percentage of GDP for public expenditure on early childhood education and care</li>\n",
    "        <li><strong>spending_family_benefits</strong>: percentage of GDP spent on families in total (cash, services and tax breaks)</li>\n",
    "        <li><strong>spending_education</strong>: percentage of GDP spent on primary and secondary education</li>\n",
    "    </ul>\n",
    "</div>"
   ]
  },
  {
   "cell_type": "code",
   "execution_count": 12,
   "id": "de6a92d7",
   "metadata": {},
   "outputs": [],
   "source": [
    "# sorting the columns according to the categories of the column guide\n",
    "eu_df = eu_df[['country', \"emp_women\", \"emp_men\", \"emp_women_pt\", \"emp_men_pt\",\n",
    "               \"gender_emp_gap\", \"gender_pay_gap\", \"manager_women\", \"num_children\",\n",
    "                \"age_first_birth\", \"households_0_child\", \"households_1_child\",\n",
    "                \"households_2_child\", \"households_more_than_2_child\",\n",
    "                \"emp_mothers\", \"emp_mothers_pt\", \"emp_mothers_ft\",\n",
    "                \"emp_mothers_partnered\", \"emp_mothers_single\",\n",
    "                \"emp_fathers_child_younger_than_6\", \"emp_mothers_child_younger_than_6\",\n",
    "                \"emp_fathers_child_6_11\", \"emp_mothers_child_6_11\",\n",
    "                \"emp_mothers_1_young_child\", \"emp_mothers_2_young_child\",\n",
    "                \"emp_mothers_more_than_2_young_child\", \"emp_mothers_low_edu\",\n",
    "                \"emp_mothers_med_edu\", \"emp_mothers_high_edu\",\n",
    "                \"fathers_full_paid_leave\", \"mothers_full_paid_leave\",\n",
    "                \"spending_early_childhood\", \"spending_family_benefits\",\n",
    "                \"spending_education\"]]"
   ]
  },
  {
   "cell_type": "code",
   "execution_count": null,
   "id": "c72fd80a",
   "metadata": {},
   "outputs": [],
   "source": [
    "eu_df.columns.nunique()"
   ]
  },
  {
   "cell_type": "code",
   "execution_count": null,
   "id": "fd978eb4",
   "metadata": {},
   "outputs": [],
   "source": [
    "eu_df.columns"
   ]
  },
  {
   "cell_type": "code",
   "execution_count": null,
   "id": "4e90a734",
   "metadata": {},
   "outputs": [],
   "source": [
    "eu_df.shape"
   ]
  },
  {
   "cell_type": "markdown",
   "id": "03e0a1b5",
   "metadata": {},
   "source": [
    "## <span style=\"color: #ec7511;\">Checking Data Types</span>"
   ]
  },
  {
   "cell_type": "code",
   "execution_count": null,
   "id": "397f8d23",
   "metadata": {},
   "outputs": [],
   "source": [
    "eu_df.dtypes"
   ]
  },
  {
   "cell_type": "code",
   "execution_count": 13,
   "id": "00e0f58a",
   "metadata": {},
   "outputs": [
    {
     "data": {
      "text/plain": [
       "country                                 object\n",
       "emp_women                              float64\n",
       "emp_men                                float64\n",
       "emp_women_pt                           float64\n",
       "emp_men_pt                             float64\n",
       "gender_emp_gap                         float64\n",
       "gender_pay_gap                         float64\n",
       "manager_women                          float64\n",
       "num_children                           float64\n",
       "age_first_birth                        float64\n",
       "households_0_child                     float64\n",
       "households_1_child                     float64\n",
       "households_2_child                     float64\n",
       "households_more_than_2_child           float64\n",
       "emp_mothers                            float64\n",
       "emp_mothers_pt                         float64\n",
       "emp_mothers_ft                         float64\n",
       "emp_mothers_partnered                  float64\n",
       "emp_mothers_single                     float64\n",
       "emp_fathers_child_younger_than_6       float64\n",
       "emp_mothers_child_younger_than_6       float64\n",
       "emp_fathers_child_6_11                 float64\n",
       "emp_mothers_child_6_11                 float64\n",
       "emp_mothers_1_young_child              float64\n",
       "emp_mothers_2_young_child              float64\n",
       "emp_mothers_more_than_2_young_child    float64\n",
       "emp_mothers_low_edu                    float64\n",
       "emp_mothers_med_edu                    float64\n",
       "emp_mothers_high_edu                   float64\n",
       "fathers_full_paid_leave                float64\n",
       "mothers_full_paid_leave                float64\n",
       "spending_early_childhood               float64\n",
       "spending_family_benefits               float64\n",
       "spending_family_benefits               float64\n",
       "spending_education                     float64\n",
       "spending_education                     float64\n",
       "dtype: object"
      ]
     },
     "execution_count": 13,
     "metadata": {},
     "output_type": "execute_result"
    }
   ],
   "source": [
    "columns_to_convert = [\n",
    "    \"emp_women\",\n",
    "    \"emp_men\",\n",
    "    \"emp_women_pt\",\n",
    "    \"emp_men_pt\",\n",
    "    \"num_children\",\n",
    "    \"age_first_birth\",\n",
    "    \"households_0_child\",\n",
    "    \"households_1_child\",\n",
    "    \"households_2_child\",\n",
    "    \"households_more_than_2_child\",\n",
    "    \"emp_mothers\",\n",
    "    \"emp_mothers_pt\",\n",
    "    \"emp_mothers_ft\",\n",
    "    \"emp_mothers_partnered\",\n",
    "    \"emp_mothers_single\",\n",
    "    \"emp_fathers_child_younger_than_6\",\n",
    "    \"emp_mothers_child_younger_than_6\",\n",
    "    \"emp_fathers_child_6_11\",\n",
    "    \"emp_mothers_child_6_11\",\n",
    "    \"emp_mothers_1_young_child\",\n",
    "    \"emp_mothers_2_young_child\",\n",
    "    \"emp_mothers_more_than_2_young_child\",\n",
    "    \"emp_mothers_low_edu\",\n",
    "    \"emp_mothers_med_edu\",\n",
    "    \"emp_mothers_high_edu\",\n",
    "    \"fathers_full_paid_leave\",\n",
    "    \"mothers_full_paid_leave\",\n",
    "]\n",
    "\n",
    "eu_df[columns_to_convert] = eu_df[columns_to_convert].apply(pd.to_numeric, errors='coerce')\n",
    "\n",
    "\n",
    "eu_df.dtypes"
   ]
  },
  {
   "cell_type": "markdown",
   "id": "4d6cfd32-5448-4962-882e-40f435a41842",
   "metadata": {
    "tags": []
   },
   "source": [
    "## <span style=\"color: #ec7511;\">Checking Null Values</span>"
   ]
  },
  {
   "cell_type": "code",
   "execution_count": null,
   "id": "4d7e6cbb-349e-4ea5-a315-e4896a8d4191",
   "metadata": {},
   "outputs": [],
   "source": [
    "eu_df.isnull().sum()"
   ]
  },
  {
   "cell_type": "code",
   "execution_count": null,
   "id": "f34a5272",
   "metadata": {},
   "outputs": [],
   "source": [
    "nan_summary = eu_df.isna().sum().reset_index()\n",
    "nan_summary.columns = [\"Column\", \"Number of missing values\"]\n",
    "nan_summary[\"Percentage missing values\"] = (nan_summary[\"Number of missing values\"] / len(eu_df)) * 100\n",
    "\n",
    "# Sort by number of missing values\n",
    "nan_summary = nan_summary.sort_values(by=\"Number of missing values\", ascending=False)\n",
    "nan_summary"
   ]
  },
  {
   "cell_type": "code",
   "execution_count": null,
   "id": "57307bf4",
   "metadata": {},
   "outputs": [],
   "source": [
    "num_complete_rows = eu_df.dropna().shape[0]\n",
    "num_rows_with_max_1_missing_value = eu_df[eu_df.isnull().sum(axis=1) <= 1].shape[0]\n",
    "num_rows_with_max_2_missing_value = eu_df[eu_df.isnull().sum(axis=1) <= 2].shape[0]\n",
    "num_rows_with_max_3_missing_value = eu_df[eu_df.isnull().sum(axis=1) <= 3].shape[0]\n",
    "num_rows_with_max_4_missing_value = eu_df[eu_df.isnull().sum(axis=1) <= 4].shape[0]\n",
    "num_rows_with_max_5_missing_value = eu_df[eu_df.isnull().sum(axis=1) <= 5].shape[0]\n",
    "print(f\"The number of rows without missing values is: {num_complete_rows}\")\n",
    "print(f\"The number of rows with at most 1 missing value is: {num_rows_with_max_1_missing_value}\")\n",
    "print(f\"The number of rows with at most 2 missing values is: {num_rows_with_max_2_missing_value}\")\n",
    "print(f\"The number of rows with at most 3 missing values is: {num_rows_with_max_3_missing_value}\")\n",
    "print(f\"The number of rows with at most 4 missing values is: {num_rows_with_max_4_missing_value}\")\n",
    "print(f\"The number of rows with at most 5 missing values is: {num_rows_with_max_5_missing_value}\")"
   ]
  },
  {
   "cell_type": "markdown",
   "id": "5949b539",
   "metadata": {},
   "source": [
    "<div style=\"\n",
    "    padding: 15px;\n",
    "    margin: 10px 0;\n",
    "    border: 1px solid #f7be0d;\n",
    "    border-radius: 4px;\n",
    "    background-color: #e3db24;\n",
    "    color: #060606;\n",
    "    font-size: 16px;\n",
    "    line-height: 1.5;\n",
    "    word-wrap: break-word;\n",
    "    text-align: left;\">\n",
    "    <strong>How to Proceed with Missing Values I:</strong>\n",
    "<p>After some more research, I found more complete data on \"spending_family_benefits\" and \"spending_education\" (both by Eurostat), so I will drop the columns here and replace them with the new data. For \"spending_early_childhood\", I was not able to find replacement data and I will therefore drop this column as the number of NaNs (over 20%) according to my assessment is too high to not risk a severe influence on the analysis.</p>\n",
    "</div>"
   ]
  },
  {
   "cell_type": "code",
   "execution_count": 14,
   "id": "621805ef",
   "metadata": {},
   "outputs": [],
   "source": [
    "# dropping the three columns\n",
    "eu_df = eu_df.drop(columns=[\"spending_family_benefits\", \"spending_early_childhood\", \"spending_education\"])"
   ]
  },
  {
   "cell_type": "code",
   "execution_count": 15,
   "id": "c4e0c964",
   "metadata": {},
   "outputs": [
    {
     "data": {
      "text/plain": [
       "Index(['country', 'emp_women', 'emp_men', 'emp_women_pt', 'emp_men_pt',\n",
       "       'gender_emp_gap', 'gender_pay_gap', 'manager_women', 'num_children',\n",
       "       'age_first_birth', 'households_0_child', 'households_1_child',\n",
       "       'households_2_child', 'households_more_than_2_child', 'emp_mothers',\n",
       "       'emp_mothers_pt', 'emp_mothers_ft', 'emp_mothers_partnered',\n",
       "       'emp_mothers_single', 'emp_fathers_child_younger_than_6',\n",
       "       'emp_mothers_child_younger_than_6', 'emp_fathers_child_6_11',\n",
       "       'emp_mothers_child_6_11', 'emp_mothers_1_young_child',\n",
       "       'emp_mothers_2_young_child', 'emp_mothers_more_than_2_young_child',\n",
       "       'emp_mothers_low_edu', 'emp_mothers_med_edu', 'emp_mothers_high_edu',\n",
       "       'fathers_full_paid_leave', 'mothers_full_paid_leave'],\n",
       "      dtype='object')"
      ]
     },
     "execution_count": 15,
     "metadata": {},
     "output_type": "execute_result"
    }
   ],
   "source": [
    "eu_df.columns"
   ]
  },
  {
   "cell_type": "code",
   "execution_count": null,
   "id": "f88b9dde",
   "metadata": {},
   "outputs": [],
   "source": [
    "eu_df.columns.nunique()"
   ]
  },
  {
   "cell_type": "code",
   "execution_count": 16,
   "id": "c1a177f3",
   "metadata": {},
   "outputs": [],
   "source": [
    "# loading new data and merging it with the existing data\n",
    "path = \"data/edited_data/\"\n",
    "\n",
    "spending_family = pd.read_excel(path + \"spending_family_benefits.xlsx\")\n",
    "spending_education = pd.read_excel(path + \"spending_education.xlsx\")\n",
    "\n",
    "eu_df = pd.merge(eu_df, spending_family, on=\"country\", how=\"left\")\n",
    "eu_df = pd.merge(eu_df, spending_education, on=\"country\", how=\"left\")"
   ]
  },
  {
   "cell_type": "code",
   "execution_count": null,
   "id": "28dcd2ed",
   "metadata": {},
   "outputs": [],
   "source": [
    "eu_df.columns"
   ]
  },
  {
   "cell_type": "code",
   "execution_count": 17,
   "id": "42232399",
   "metadata": {},
   "outputs": [],
   "source": [
    "eu_df = eu_df[['country', 'spending_family_benefits', 'spending_education',\n",
    "        'emp_women', 'emp_men', 'emp_women_pt', 'emp_men_pt',\n",
    "       'gender_emp_gap', 'gender_pay_gap', 'manager_women', 'num_children',\n",
    "       'age_first_birth', 'households_0_child', 'households_1_child',\n",
    "       'households_2_child', 'households_more_than_2_child', 'emp_mothers',\n",
    "       'emp_mothers_pt', 'emp_mothers_ft', 'emp_mothers_partnered',\n",
    "       'emp_mothers_single', 'emp_fathers_child_younger_than_6',\n",
    "       'emp_mothers_child_younger_than_6', 'emp_fathers_child_6_11',\n",
    "       'emp_mothers_child_6_11', 'emp_mothers_1_young_child',\n",
    "       'emp_mothers_2_young_child', 'emp_mothers_more_than_2_young_child',\n",
    "       'emp_mothers_low_edu', 'emp_mothers_med_edu', 'emp_mothers_high_edu',\n",
    "       'fathers_full_paid_leave', 'mothers_full_paid_leave']]"
   ]
  },
  {
   "cell_type": "code",
   "execution_count": null,
   "id": "153624d4",
   "metadata": {},
   "outputs": [],
   "source": [
    "eu_df.columns"
   ]
  },
  {
   "cell_type": "code",
   "execution_count": null,
   "id": "732a2fc7",
   "metadata": {},
   "outputs": [],
   "source": [
    "eu_df.columns.nunique()"
   ]
  },
  {
   "cell_type": "code",
   "execution_count": null,
   "id": "9ad42a05",
   "metadata": {},
   "outputs": [],
   "source": [
    "nan_summary = eu_df.isna().sum().reset_index()\n",
    "nan_summary.columns = [\"Column\", \"Number of missing values\"]\n",
    "nan_summary[\"Percentage missing values\"] = (nan_summary[\"Number of missing values\"] / len(eu_df)) * 100\n",
    "\n",
    "# Sort by number of missing values\n",
    "nan_summary = nan_summary.sort_values(by=\"Number of missing values\", ascending=False)\n",
    "nan_summary"
   ]
  },
  {
   "cell_type": "code",
   "execution_count": null,
   "id": "99490d06",
   "metadata": {},
   "outputs": [],
   "source": [
    "num_complete_rows = eu_df.dropna().shape[0]\n",
    "num_rows_with_max_1_missing_value = eu_df[eu_df.isnull().sum(axis=1) <= 1].shape[0]\n",
    "num_rows_with_max_2_missing_value = eu_df[eu_df.isnull().sum(axis=1) <= 2].shape[0]\n",
    "num_rows_with_max_3_missing_value = eu_df[eu_df.isnull().sum(axis=1) <= 3].shape[0]\n",
    "\n",
    "print(f\"The number of rows without missing values is: {num_complete_rows}\")\n",
    "print(f\"The number of rows with at most 1 missing value is: {num_rows_with_max_1_missing_value}\")\n",
    "print(f\"The number of rows with at most 2 missing values is: {num_rows_with_max_2_missing_value}\")\n",
    "print(f\"The number of rows with at most 3 missing values is: {num_rows_with_max_3_missing_value}\")"
   ]
  },
  {
   "cell_type": "code",
   "execution_count": null,
   "id": "4b9f2ee3",
   "metadata": {},
   "outputs": [],
   "source": [
    "# check for rows with many missing values\n",
    "eu_df['num_missing'] = eu_df.isnull().sum(axis=1)\n",
    "\n",
    "\n",
    "rows_with_2_nans = eu_df[eu_df['num_missing'] == 2]\n",
    "rows_with_3_nans = eu_df[eu_df['num_missing'] == 3]\n",
    "rows_with_many_nans = eu_df[eu_df['num_missing'] > 3]\n",
    "\n",
    "print(rows_with_1_nan)\n",
    "print(\"\")\n",
    "print(rows_with_2_nans)\n",
    "print(\"\")\n",
    "print(rows_with_3_nans)\n",
    "print(\"\")\n",
    "print(rows_with_many_nans)"
   ]
  },
  {
   "cell_type": "markdown",
   "id": "49f5b688",
   "metadata": {},
   "source": [
    "<div style=\"\n",
    "    padding: 15px;\n",
    "    margin: 10px 0;\n",
    "    border: 1px solid #f7be0d;\n",
    "    border-radius: 4px;\n",
    "    background-color: #e3db24;\n",
    "    color: #060606;\n",
    "    font-size: 16px;\n",
    "    line-height: 1.5;\n",
    "    word-wrap: break-word;\n",
    "    text-align: left;\">\n",
    "    <strong>How to Proceed with Missing Values 2:</strong>\n",
    "<p>As there are two countries which have a lot of NaNs (up to 22), I will exclude these from the analysis. Replacing them is not a good option because it is country-specific data which cannot be derived from other cells.</p>\n",
    "</div>"
   ]
  },
  {
   "cell_type": "code",
   "execution_count": 18,
   "id": "8c662daa",
   "metadata": {},
   "outputs": [
    {
     "data": {
      "text/plain": [
       "(25, 33)"
      ]
     },
     "execution_count": 18,
     "metadata": {},
     "output_type": "execute_result"
    }
   ],
   "source": [
    "eu_df = eu_df[eu_df.apply(lambda row: row.isna().sum() < 3, axis=1)].reset_index(drop=True)\n",
    "eu_df.shape\n"
   ]
  },
  {
   "cell_type": "code",
   "execution_count": 19,
   "id": "1d406bc3",
   "metadata": {},
   "outputs": [
    {
     "data": {
      "text/plain": [
       "0         Austria\n",
       "1         Belgium\n",
       "2        Bulgaria\n",
       "3         Croatia\n",
       "4          Cyprus\n",
       "5         Denmark\n",
       "6         Estonia\n",
       "7         Finland\n",
       "8          France\n",
       "9         Germany\n",
       "10         Greece\n",
       "11        Hungary\n",
       "12        Ireland\n",
       "13          Italy\n",
       "14         Latvia\n",
       "15      Lithuania\n",
       "16     Luxembourg\n",
       "17          Malta\n",
       "18    Netherlands\n",
       "19         Poland\n",
       "20       Portugal\n",
       "21        Romania\n",
       "22       Slovenia\n",
       "23          Spain\n",
       "24         Sweden\n",
       "Name: country, dtype: object"
      ]
     },
     "execution_count": 19,
     "metadata": {},
     "output_type": "execute_result"
    }
   ],
   "source": [
    "eu_df.country"
   ]
  },
  {
   "cell_type": "code",
   "execution_count": 20,
   "id": "a9d60bc6",
   "metadata": {},
   "outputs": [
    {
     "data": {
      "text/plain": [
       "country                                0\n",
       "spending_family_benefits               0\n",
       "spending_education                     0\n",
       "emp_women                              0\n",
       "emp_men                                0\n",
       "emp_women_pt                           0\n",
       "emp_men_pt                             0\n",
       "gender_emp_gap                         0\n",
       "gender_pay_gap                         0\n",
       "manager_women                          1\n",
       "num_children                           0\n",
       "age_first_birth                        0\n",
       "households_0_child                     0\n",
       "households_1_child                     0\n",
       "households_2_child                     0\n",
       "households_more_than_2_child           0\n",
       "emp_mothers                            0\n",
       "emp_mothers_pt                         0\n",
       "emp_mothers_ft                         0\n",
       "emp_mothers_partnered                  0\n",
       "emp_mothers_single                     0\n",
       "emp_fathers_child_younger_than_6       0\n",
       "emp_mothers_child_younger_than_6       0\n",
       "emp_fathers_child_6_11                 0\n",
       "emp_mothers_child_6_11                 0\n",
       "emp_mothers_1_young_child              0\n",
       "emp_mothers_2_young_child              0\n",
       "emp_mothers_more_than_2_young_child    0\n",
       "emp_mothers_low_edu                    0\n",
       "emp_mothers_med_edu                    0\n",
       "emp_mothers_high_edu                   0\n",
       "fathers_full_paid_leave                0\n",
       "mothers_full_paid_leave                0\n",
       "dtype: int64"
      ]
     },
     "execution_count": 20,
     "metadata": {},
     "output_type": "execute_result"
    }
   ],
   "source": [
    "eu_df.isna().sum()"
   ]
  },
  {
   "cell_type": "code",
   "execution_count": 22,
   "id": "43517122",
   "metadata": {},
   "outputs": [
    {
     "data": {
      "text/html": [
       "<div>\n",
       "<style scoped>\n",
       "    .dataframe tbody tr th:only-of-type {\n",
       "        vertical-align: middle;\n",
       "    }\n",
       "\n",
       "    .dataframe tbody tr th {\n",
       "        vertical-align: top;\n",
       "    }\n",
       "\n",
       "    .dataframe thead th {\n",
       "        text-align: right;\n",
       "    }\n",
       "</style>\n",
       "<table border=\"1\" class=\"dataframe\">\n",
       "  <thead>\n",
       "    <tr style=\"text-align: right;\">\n",
       "      <th></th>\n",
       "      <th>country</th>\n",
       "      <th>spending_family_benefits</th>\n",
       "      <th>spending_education</th>\n",
       "      <th>emp_women</th>\n",
       "      <th>emp_men</th>\n",
       "      <th>emp_women_pt</th>\n",
       "      <th>emp_men_pt</th>\n",
       "      <th>gender_emp_gap</th>\n",
       "      <th>gender_pay_gap</th>\n",
       "      <th>manager_women</th>\n",
       "      <th>num_children</th>\n",
       "      <th>age_first_birth</th>\n",
       "      <th>households_0_child</th>\n",
       "      <th>households_1_child</th>\n",
       "      <th>households_2_child</th>\n",
       "      <th>households_more_than_2_child</th>\n",
       "      <th>emp_mothers</th>\n",
       "      <th>emp_mothers_pt</th>\n",
       "      <th>emp_mothers_ft</th>\n",
       "      <th>emp_mothers_partnered</th>\n",
       "      <th>emp_mothers_single</th>\n",
       "      <th>emp_fathers_child_younger_than_6</th>\n",
       "      <th>emp_mothers_child_younger_than_6</th>\n",
       "      <th>emp_fathers_child_6_11</th>\n",
       "      <th>emp_mothers_child_6_11</th>\n",
       "      <th>emp_mothers_1_young_child</th>\n",
       "      <th>emp_mothers_2_young_child</th>\n",
       "      <th>emp_mothers_more_than_2_young_child</th>\n",
       "      <th>emp_mothers_low_edu</th>\n",
       "      <th>emp_mothers_med_edu</th>\n",
       "      <th>emp_mothers_high_edu</th>\n",
       "      <th>fathers_full_paid_leave</th>\n",
       "      <th>mothers_full_paid_leave</th>\n",
       "    </tr>\n",
       "  </thead>\n",
       "  <tbody>\n",
       "    <tr>\n",
       "      <th>16</th>\n",
       "      <td>Luxembourg</td>\n",
       "      <td>3.19</td>\n",
       "      <td>1.91</td>\n",
       "      <td>66.80</td>\n",
       "      <td>73.60</td>\n",
       "      <td>29.40</td>\n",
       "      <td>8.40</td>\n",
       "      <td>15.27</td>\n",
       "      <td>0.44</td>\n",
       "      <td>NaN</td>\n",
       "      <td>1.38</td>\n",
       "      <td>31.00</td>\n",
       "      <td>66.13</td>\n",
       "      <td>14.54</td>\n",
       "      <td>14.75</td>\n",
       "      <td>4.58</td>\n",
       "      <td>77.96</td>\n",
       "      <td>17.42</td>\n",
       "      <td>57.84</td>\n",
       "      <td>77.78</td>\n",
       "      <td>79.69</td>\n",
       "      <td>93.80</td>\n",
       "      <td>81.00</td>\n",
       "      <td>93.00</td>\n",
       "      <td>83.60</td>\n",
       "      <td>80.18</td>\n",
       "      <td>77.82</td>\n",
       "      <td>69.86</td>\n",
       "      <td>72.07</td>\n",
       "      <td>75.55</td>\n",
       "      <td>81.06</td>\n",
       "      <td>20.49</td>\n",
       "      <td>38.49</td>\n",
       "    </tr>\n",
       "  </tbody>\n",
       "</table>\n",
       "</div>"
      ],
      "text/plain": [
       "       country  spending_family_benefits  spending_education  emp_women  \\\n",
       "16  Luxembourg                      3.19                1.91      66.80   \n",
       "\n",
       "    emp_men  emp_women_pt  emp_men_pt  gender_emp_gap  gender_pay_gap  \\\n",
       "16    73.60         29.40        8.40           15.27            0.44   \n",
       "\n",
       "    manager_women  num_children  age_first_birth  households_0_child  \\\n",
       "16            NaN          1.38            31.00               66.13   \n",
       "\n",
       "    households_1_child  households_2_child  households_more_than_2_child  \\\n",
       "16               14.54               14.75                          4.58   \n",
       "\n",
       "    emp_mothers  emp_mothers_pt  emp_mothers_ft  emp_mothers_partnered  \\\n",
       "16        77.96           17.42           57.84                  77.78   \n",
       "\n",
       "    emp_mothers_single  emp_fathers_child_younger_than_6  \\\n",
       "16               79.69                             93.80   \n",
       "\n",
       "    emp_mothers_child_younger_than_6  emp_fathers_child_6_11  \\\n",
       "16                             81.00                   93.00   \n",
       "\n",
       "    emp_mothers_child_6_11  emp_mothers_1_young_child  \\\n",
       "16                   83.60                      80.18   \n",
       "\n",
       "    emp_mothers_2_young_child  emp_mothers_more_than_2_young_child  \\\n",
       "16                      77.82                                69.86   \n",
       "\n",
       "    emp_mothers_low_edu  emp_mothers_med_edu  emp_mothers_high_edu  \\\n",
       "16                72.07                75.55                 81.06   \n",
       "\n",
       "    fathers_full_paid_leave  mothers_full_paid_leave  \n",
       "16                    20.49                    38.49  "
      ]
     },
     "execution_count": 22,
     "metadata": {},
     "output_type": "execute_result"
    }
   ],
   "source": [
    "eu_df[eu_df[\"manager_women\"].isna()]\n"
   ]
  },
  {
   "cell_type": "markdown",
   "id": "90f103dd",
   "metadata": {},
   "source": [
    "<div style=\"\n",
    "    padding: 15px;\n",
    "    margin: 10px 0;\n",
    "    border: 1px solid #f7be0d;\n",
    "    border-radius: 4px;\n",
    "    background-color: #e3db24;\n",
    "    color: #060606;\n",
    "    font-size: 16px;\n",
    "    line-height: 1.5;\n",
    "    word-wrap: break-word;\n",
    "    text-align: left;\">\n",
    "    <strong>How to Proceed with Missing Values 3:</strong>\n",
    "<p>There is one missing value left, it is the share of managers who are female in Luxembourg. I will replace this with the median value of all the other countries because I do not want to loose Luxembourg as it has complete data apart from this and I also do not want to loose the column as it can be of explanatory interest regarding the status of women when it comes to employment.</p>\n",
    "</div>"
   ]
  },
  {
   "cell_type": "code",
   "execution_count": 23,
   "id": "5a4e0b96",
   "metadata": {},
   "outputs": [
    {
     "data": {
      "text/plain": [
       "country                                0\n",
       "spending_family_benefits               0\n",
       "spending_education                     0\n",
       "emp_women                              0\n",
       "emp_men                                0\n",
       "emp_women_pt                           0\n",
       "emp_men_pt                             0\n",
       "gender_emp_gap                         0\n",
       "gender_pay_gap                         0\n",
       "manager_women                          0\n",
       "num_children                           0\n",
       "age_first_birth                        0\n",
       "households_0_child                     0\n",
       "households_1_child                     0\n",
       "households_2_child                     0\n",
       "households_more_than_2_child           0\n",
       "emp_mothers                            0\n",
       "emp_mothers_pt                         0\n",
       "emp_mothers_ft                         0\n",
       "emp_mothers_partnered                  0\n",
       "emp_mothers_single                     0\n",
       "emp_fathers_child_younger_than_6       0\n",
       "emp_mothers_child_younger_than_6       0\n",
       "emp_fathers_child_6_11                 0\n",
       "emp_mothers_child_6_11                 0\n",
       "emp_mothers_1_young_child              0\n",
       "emp_mothers_2_young_child              0\n",
       "emp_mothers_more_than_2_young_child    0\n",
       "emp_mothers_low_edu                    0\n",
       "emp_mothers_med_edu                    0\n",
       "emp_mothers_high_edu                   0\n",
       "fathers_full_paid_leave                0\n",
       "mothers_full_paid_leave                0\n",
       "dtype: int64"
      ]
     },
     "execution_count": 23,
     "metadata": {},
     "output_type": "execute_result"
    }
   ],
   "source": [
    "eu_df[\"manager_women\"] = eu_df[\"manager_women\"].fillna(eu_df[\"manager_women\"].median())\n",
    "eu_df.isna().sum()\n"
   ]
  },
  {
   "cell_type": "markdown",
   "id": "9106861d-272f-4cd2-a3e3-b5827f3d6193",
   "metadata": {
    "tags": []
   },
   "source": [
    "## <span style=\"color: #ec7511;\">Checking Duplicates</span>"
   ]
  },
  {
   "cell_type": "code",
   "execution_count": 24,
   "id": "6fca5187-a3b3-453c-a5a8-665814f9e60c",
   "metadata": {},
   "outputs": [
    {
     "data": {
      "text/plain": [
       "0"
      ]
     },
     "execution_count": 24,
     "metadata": {},
     "output_type": "execute_result"
    }
   ],
   "source": [
    "eu_df.duplicated().sum()"
   ]
  },
  {
   "cell_type": "markdown",
   "id": "5b99f8c1-08d3-423d-bef0-5e4d18d48808",
   "metadata": {
    "tags": []
   },
   "source": [
    "## <span style=\"color: #ec7511;\">Checking Empty Spaces</span>"
   ]
  },
  {
   "cell_type": "code",
   "execution_count": 25,
   "id": "11f33713-1df9-41e2-8972-0edb6ca56cb4",
   "metadata": {},
   "outputs": [
    {
     "data": {
      "text/plain": [
       "country                                0\n",
       "spending_family_benefits               0\n",
       "spending_education                     0\n",
       "emp_women                              0\n",
       "emp_men                                0\n",
       "emp_women_pt                           0\n",
       "emp_men_pt                             0\n",
       "gender_emp_gap                         0\n",
       "gender_pay_gap                         0\n",
       "manager_women                          0\n",
       "num_children                           0\n",
       "age_first_birth                        0\n",
       "households_0_child                     0\n",
       "households_1_child                     0\n",
       "households_2_child                     0\n",
       "households_more_than_2_child           0\n",
       "emp_mothers                            0\n",
       "emp_mothers_pt                         0\n",
       "emp_mothers_ft                         0\n",
       "emp_mothers_partnered                  0\n",
       "emp_mothers_single                     0\n",
       "emp_fathers_child_younger_than_6       0\n",
       "emp_mothers_child_younger_than_6       0\n",
       "emp_fathers_child_6_11                 0\n",
       "emp_mothers_child_6_11                 0\n",
       "emp_mothers_1_young_child              0\n",
       "emp_mothers_2_young_child              0\n",
       "emp_mothers_more_than_2_young_child    0\n",
       "emp_mothers_low_edu                    0\n",
       "emp_mothers_med_edu                    0\n",
       "emp_mothers_high_edu                   0\n",
       "fathers_full_paid_leave                0\n",
       "mothers_full_paid_leave                0\n",
       "dtype: int64"
      ]
     },
     "execution_count": 25,
     "metadata": {},
     "output_type": "execute_result"
    }
   ],
   "source": [
    "eu_df.eq(\" \").sum()"
   ]
  },
  {
   "cell_type": "markdown",
   "id": "2a716449-cd20-454c-8e21-805617121efc",
   "metadata": {},
   "source": [
    "# <span style=\"color: #e3db24;\">03 | EDA (Exploratory Data Analysis)</span>"
   ]
  },
  {
   "cell_type": "markdown",
   "id": "f78cc33e",
   "metadata": {},
   "source": [
    "<div style=\"\n",
    "    padding: 15px;\n",
    "    margin: 10px 0;\n",
    "    border: 1px solid #f7be0d;\n",
    "    border-radius: 4px;\n",
    "    background-color: #e3db24;\n",
    "    color: #060606;\n",
    "    font-size: 16px;\n",
    "    line-height: 1.5;\n",
    "    word-wrap: break-word;\n",
    "    text-align: left;\">\n",
    "    <strong>Hypotheses:</strong>\n",
    "<p>After cleaning the data, I will now do some EDA to investigate the following hypotheses:</p>\n",
    "    <ul>\n",
    "        <li>Hypothesis 1:</li>\n",
    "        <li>Hypothesis 2:</li>\n",
    "        <li>Hypothesis 3:</li>\n",
    "        <li>Hypothesis 4:</li>\n",
    "    </ul>\n",
    "</div>"
   ]
  },
  {
   "cell_type": "markdown",
   "id": "905d5af2",
   "metadata": {
    "tags": []
   },
   "source": [
    "## <span style=\"color: #ec7511;\">Statistical information about the numerical columns</span>"
   ]
  },
  {
   "cell_type": "code",
   "execution_count": null,
   "id": "d30e0c76-d11a-4f4a-b1aa-ff5cf86cf241",
   "metadata": {},
   "outputs": [],
   "source": [
    "df.describe().T"
   ]
  },
  {
   "cell_type": "markdown",
   "id": "352588db-b48c-4b73-81e6-d5ff3e38b1fd",
   "metadata": {},
   "source": [
    "+ Measures of central tendency - Mean, median, mode\n",
    "+ Measures of spread / dispersion - SD, var, range, quartiles, percentiles\n",
    "+ Meaures of frequency - Frequency"
   ]
  },
  {
   "cell_type": "markdown",
   "id": "b927217c-f8c2-446d-a8de-5d3c9f4794c7",
   "metadata": {},
   "source": [
    "+ **Range:** defines the difference between the highest and lowest values.\n",
    "+ **Variance**: measures how far each number in the set is from the mean and thus from every other number in the set.\n",
    "+ **Standard deviation:** The standard deviation is a statistic that measures the dispersion of a dataset relative to its mean and is calculated as the square root of the variance\n",
    "+ **Quartiles:** A quartile is a statistical term that describes a division of observations into four defined intervals based on the values of the data and how they compare to the entire set of observations.\n",
    "+ **Percentiles:** same but divided in 100 groups."
   ]
  },
  {
   "cell_type": "markdown",
   "id": "a594365f-2341-4111-a874-0909c3cdaa6d",
   "metadata": {
    "tags": []
   },
   "source": [
    "## <span style=\"color: #ec7511;\">Selecting numerical</span>"
   ]
  },
  {
   "cell_type": "code",
   "execution_count": null,
   "id": "c4a9656b-6c78-41f6-8f60-05a7bd477efc",
   "metadata": {},
   "outputs": [],
   "source": [
    "num = df.select_dtypes(\"number\")"
   ]
  },
  {
   "cell_type": "markdown",
   "id": "bdd253b9-9f65-41cf-ba40-315c7996f19e",
   "metadata": {
    "tags": []
   },
   "source": [
    "## <span style=\"color: #ec7511;\">Checking Distributions</span>"
   ]
  },
  {
   "cell_type": "code",
   "execution_count": null,
   "id": "9695e7e5-52a3-4406-adde-75f802ffab6c",
   "metadata": {},
   "outputs": [],
   "source": [
    "# histogram for all numberical columns\n",
    "\n",
    "color = '#0072B2'\n",
    "\n",
    "# grid size\n",
    "nrows, ncols = 5, 4  # adjust for your number of features\n",
    "\n",
    "fig, axes = plt.subplots(nrows=nrows, ncols=ncols, figsize=(20, 16))\n",
    "\n",
    "axes = axes.flatten()\n",
    "\n",
    "# Plot each numerical feature\n",
    "for i, ax in enumerate(axes):\n",
    "    if i >= len(num.columns):\n",
    "        ax.set_visible(False)  # hide unesed plots\n",
    "        continue\n",
    "    ax.hist(num.iloc[:, i], bins=30, color=color, edgecolor='black')\n",
    "    ax.set_title(num.columns[i])\n",
    "\n",
    "plt.tight_layout()\n",
    "plt.show()"
   ]
  },
  {
   "cell_type": "code",
   "execution_count": null,
   "id": "2666366b-c4a9-4a8c-b51f-146085896e2c",
   "metadata": {},
   "outputs": [],
   "source": [
    "boxplot = num[['value(in_euro)', 'wage(in_euro)', 'release_clause', 'dribbling_total', 'short_passing', 'lf_rating']]"
   ]
  },
  {
   "cell_type": "markdown",
   "id": "b5e3156b-ab5c-451d-8ec0-af629342cf82",
   "metadata": {},
   "source": [
    "here shoudl be a better way: boxplots in one graphic, all next to each other, loook for code and nclude"
   ]
  },
  {
   "cell_type": "code",
   "execution_count": null,
   "id": "f56f6748-3ea8-4166-9ce9-aa4514a6ca15",
   "metadata": {},
   "outputs": [],
   "source": [
    "# boxplots for all num columns\n",
    "\n",
    "color = '#0072B2'\n",
    "\n",
    "# grid size\n",
    "nrows, ncols = 5, 4 \n",
    "\n",
    "fig, axes = plt.subplots(nrows=nrows, ncols=ncols, figsize=(20, 16))\n",
    "\n",
    "axes = axes.flatten()\n",
    "\n",
    "for i, ax in enumerate(axes):\n",
    "    if i >= len(num.columns):\n",
    "        ax.set_visible(False)\n",
    "        continue\n",
    "    ax.boxplot(num.iloc[:, i].dropna(), vert=False, patch_artist=True, \n",
    "               boxprops=dict(facecolor=color, color='black'), \n",
    "               medianprops=dict(color='yellow'), whiskerprops=dict(color='black'), \n",
    "               capprops=dict(color='black'), flierprops=dict(marker='o', color='red', markersize=5))\n",
    "    ax.set_title(num.columns[i], fontsize=10)\n",
    "    ax.tick_params(axis='x', labelsize=8)\n",
    "\n",
    "plt.tight_layout()\n",
    "plt.show()"
   ]
  },
  {
   "cell_type": "markdown",
   "id": "5c3ccc4b-610a-4da3-bbec-77ad8e1a340d",
   "metadata": {
    "tags": []
   },
   "source": [
    "## <span style=\"color: #ec7511;\">Looking for Correlations</span>"
   ]
  },
  {
   "cell_type": "code",
   "execution_count": null,
   "id": "1e0d07bf-c2be-4b58-ab5e-a9ef6e385e55",
   "metadata": {},
   "outputs": [],
   "source": [
    "cat = df.select_dtypes(exclude=\"number\")\n",
    "num = df.select_dtypes(include=\"number\")"
   ]
  },
  {
   "cell_type": "code",
   "execution_count": null,
   "id": "2e930883-faae-44cc-8823-8e8e34cbcfcc",
   "metadata": {},
   "outputs": [],
   "source": [
    "num_corr = round(num.corr(), 2)"
   ]
  },
  {
   "cell_type": "code",
   "execution_count": null,
   "id": "f5d02ab3-2720-40ad-8db6-d44bed4c5267",
   "metadata": {},
   "outputs": [],
   "source": [
    "<div class=\"alert alert-block alert-info\">\n",
    "Tip # 4\n",
    "    \n",
    "- We don't want multicolinearity --> correlation between features biases the model...\n",
    "- We want high correlations (+ or -) with the target --> valuable information for the predictions</div>"
   ]
  },
  {
   "cell_type": "code",
   "execution_count": null,
   "id": "54b5af4d-b2bc-4bf9-9f24-33d2c941afdf",
   "metadata": {},
   "outputs": [],
   "source": [
    "# Correlation Matrix-Heatmap Plot which shows only half of numbers (so no doubles)\n",
    "mask = np.zeros_like(num_corr)\n",
    "mask[np.triu_indices_from(mask)] = True # optional, to hide repeat half of the matrix\n",
    "f, ax = plt.subplots(figsize=(25, 15))\n",
    "sns.set(font_scale=1.5) # increase font size\n",
    "ax = sns.heatmap(num_corr, mask=mask, annot=True, annot_kws={\"size\": 12}, linewidths=.5, cmap=\"coolwarm\", fmt=\".2f\", ax=ax) # round to 2 decimal places\n",
    "ax.set_title(\"Dealing with Multicollinearity\", fontsize=20) # add title\n",
    "plt.show()"
   ]
  },
  {
   "cell_type": "markdown",
   "id": "1c521007-2151-4360-a42a-4a6b49fa64d3",
   "metadata": {},
   "source": [
    "### Exercise 4: How to interpret this correlation matrix? Which other correlation methods we know?\n",
    "\n",
    "### Specific Correlations with the Target\n",
    "\n",
    "### Perform 3 Plots and Explain the Findings from the Data\n",
    "\n",
    "### Contigency Tables, Chi-Square..."
   ]
  },
  {
   "cell_type": "code",
   "execution_count": null,
   "id": "1af5e793-39ac-4e42-94a0-dc02052f6c1b",
   "metadata": {},
   "outputs": [],
   "source": []
  },
  {
   "cell_type": "code",
   "execution_count": null,
   "id": "ffbdf235-f739-46a9-ba44-ee1107750a4f",
   "metadata": {},
   "outputs": [],
   "source": []
  },
  {
   "cell_type": "code",
   "execution_count": null,
   "id": "080b031c-1455-4979-b7a1-0f7248d4cfe5",
   "metadata": {},
   "outputs": [],
   "source": []
  },
  {
   "cell_type": "markdown",
   "id": "2500ae58-541b-4aed-bb65-0ae83e83744b",
   "metadata": {},
   "source": [
    "# <span style=\"color: #e3db24;\">04 | Data Processing</span>"
   ]
  },
  {
   "cell_type": "markdown",
   "id": "f5180399",
   "metadata": {},
   "source": [
    "## <span style=\"color: #ec7511;\">Moving the Target to the Right</span>"
   ]
  },
  {
   "cell_type": "code",
   "execution_count": null,
   "id": "fafeab62",
   "metadata": {},
   "outputs": [],
   "source": [
    "#eu_df = eu_df[[col for col in eu_df.columns if col != \"emp_women\"] + [\"emp_women\"]]\n",
    "#df_women = eu_df[[col for col in eu_df.columns if col != \"emp_women\"] + [\"emp_women\"]]\n",
    "#df_mothers = eu_df[[col for col in eu_df.columns if col != \"emp_mothers\"] + [\"emp_mothers\"]]"
   ]
  },
  {
   "cell_type": "markdown",
   "id": "962091ba-0828-4428-8ed2-7735f4164e78",
   "metadata": {},
   "source": [
    "## <span style=\"color: #ec7511;\">X-Y Split</span>"
   ]
  },
  {
   "cell_type": "markdown",
   "id": "bf53c008-e656-41e3-9c59-63f985b32bae",
   "metadata": {
    "tags": []
   },
   "source": [
    "## <span style=\"color: #ec7511;\">Normalizing the Data</span>"
   ]
  },
  {
   "cell_type": "markdown",
   "id": "c9135f41-5016-482d-8e0c-c49023c9ae50",
   "metadata": {
    "tags": []
   },
   "source": [
    "# <span style=\"color: #e3db24;\">05 | Modeling</span>"
   ]
  },
  {
   "cell_type": "markdown",
   "id": "7f81348e-f517-477c-badf-7d4e38cbb5e2",
   "metadata": {},
   "source": [
    "## <span style=\"color: #ec7511;\">Train-Test Split</span>"
   ]
  },
  {
   "cell_type": "markdown",
   "id": "e5afc04f-ffed-4e93-b4e8-d43562717ace",
   "metadata": {},
   "source": [
    "## <span style=\"color: #ec7511;\">Model Validation</span>"
   ]
  },
  {
   "cell_type": "markdown",
   "id": "76ca3f20-b395-4e33-b267-5421a00c7712",
   "metadata": {
    "tags": []
   },
   "source": [
    "# <span style=\"color: #e3db24;\">06 | Improving the Model</span>"
   ]
  },
  {
   "cell_type": "markdown",
   "id": "1a9a1325-cbf7-414d-b39e-41824d11e7f5",
   "metadata": {},
   "source": [
    "# <span style=\"color: #e3db24;\">07 | Reporting</span>"
   ]
  }
 ],
 "metadata": {
  "kernelspec": {
   "display_name": "final-project",
   "language": "python",
   "name": "python3"
  },
  "language_info": {
   "codemirror_mode": {
    "name": "ipython",
    "version": 3
   },
   "file_extension": ".py",
   "mimetype": "text/x-python",
   "name": "python",
   "nbconvert_exporter": "python",
   "pygments_lexer": "ipython3",
   "version": "3.9.21"
  }
 },
 "nbformat": 4,
 "nbformat_minor": 5
}
